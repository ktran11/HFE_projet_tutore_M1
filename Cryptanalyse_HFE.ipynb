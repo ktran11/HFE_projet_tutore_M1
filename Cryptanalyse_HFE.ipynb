{
 "cells": [
  {
   "cell_type": "code",
   "execution_count": 90,
   "metadata": {},
   "outputs": [],
   "source": [
    "N = 7\n",
    "L_N.<a> = GF(2^N)\n",
    "M = PolynomialRing(L_N,N,x, order = 'lex')\n",
    "x = ['x'+str(k) for k in range(N)]\n",
    "x0,x1,x2,x3,x4,x5,x6 = [M(i) for i in x]"
   ]
  },
  {
   "cell_type": "code",
   "execution_count": 91,
   "metadata": {},
   "outputs": [],
   "source": [
    "public_key = (GF(2),\n",
    " [(a^6 + a^4 + a^3 + a + 1)*x2*x3 + (a^6 + a^4 + a^3 + a + 1)*x3*x4 + (a^6 + a^4 + a^3 + a + 1)*x1*x5 + (a^6 + a^4 + a^3 + a + 1)*x2*x5 + (a^6 + a^4 + a^3 + a + 1)*x4*x5 + (a^6 + a^4 + a^3 + a + 1)*x1*x6 + (a^6 + a^4 + a^3 + a + 1)*x3*x6 + (a^6 + a^4 + a^3 + a + 1)*x4*x6 + (a^6 + a^4 + a^3 + a + 1)*x5*x6 + (a^4 + a)*x0 + (a^6 + a^4 + a^3 + a + 1)*x5 + (a^6 + a^5 + a^4 + a + 1),\n",
    "  (a^6 + a^4 + a^3 + a + 1)*x0*x1 + (a^6 + a^4 + a^3 + a + 1)*x0*x2 + (a^6 + a^4 + a^3 + a + 1)*x1*x4 + (a^6 + a^4 + a^3 + a + 1)*x3*x4 + (a^6 + a^4 + a^3 + a + 1)*x0*x5 + (a^6 + a^4 + a^3 + a + 1)*x1*x5 + (a^6 + a^4 + a^3 + a + 1)*x4*x5 + (a^6 + a^4 + a^3 + a + 1)*x1*x6 + (a^6 + a^4 + a^3 + a + 1)*x4*x6 + (a^6 + a^4 + a^3 + a + 1)*x5*x6 + (a^6 + a^4 + a^3 + a + 1)*x3 + (a^4 + a)*x4 + (a^6 + a^4 + a^3 + a + 1)*x5,\n",
    "  (a^6 + a^4 + a^3 + a + 1)*x1*x2 + (a^6 + a^4 + a^3 + a + 1)*x2*x3 + (a^6 + a^4 + a^3 + a + 1)*x0*x4 + (a^6 + a^4 + a^3 + a + 1)*x1*x4 + (a^6 + a^4 + a^3 + a + 1)*x3*x4 + (a^6 + a^4 + a^3 + a + 1)*x0*x5 + (a^6 + a^4 + a^3 + a + 1)*x2*x5 + (a^6 + a^4 + a^3 + a + 1)*x3*x5 + (a^6 + a^4 + a^3 + a + 1)*x4*x5 + (a^6 + a^4 + a^3 + a + 1)*x4*x6 + (a^6 + a^4 + a^3 + a + 1)*x5*x6 + (a^6 + a^3 + 1)*x1 + (a^4 + a)*x4 + (a^6 + a^4 + a^3 + a + 1)*x6,\n",
    "  (a^6 + a^4 + a^3 + a + 1)*x1*x2 + (a^6 + a^4 + a^3 + a + 1)*x0*x3 + (a^6 + a^4 + a^3 + a + 1)*x1*x4 + (a^6 + a^4 + a^3 + a + 1)*x2*x5 + (a^6 + a^4 + a^3 + a + 1)*x0*x6 + (a^6 + a^4 + a^3 + a + 1)*x1*x6 + (a^6 + a^4 + a^3 + a + 1)*x3*x6 + (a^6 + a^4 + a^3 + a + 1)*x4*x6 + (a^6 + a^4 + a^3 + a + 1)*x2 + (a^6 + a^4 + a^3 + a + 1)*x3 + (a^6 + a^3 + 1)*x5,\n",
    "  (a^6 + a^4 + a^3 + a + 1)*x0*x1 + (a^6 + a^4 + a^3 + a + 1)*x2*x3 + (a^6 + a^4 + a^3 + a + 1)*x2*x4 + (a^6 + a^4 + a^3 + a + 1)*x3*x4 + (a^6 + a^4 + a^3 + a + 1)*x2*x5 + (a^6 + a^4 + a^3 + a + 1)*x3*x5 + (a^6 + a^4 + a^3 + a + 1)*x4*x5 + (a^6 + a^4 + a^3 + a + 1)*x0*x6 + (a^6 + a^4 + a^3 + a + 1)*x3*x6 + (a^4 + a)*x2 + (a^4 + a)*x5,\n",
    "  (a^6 + a^4 + a^3 + a + 1)*x0*x3 + (a^6 + a^4 + a^3 + a + 1)*x2*x3 + (a^6 + a^4 + a^3 + a + 1)*x1*x4 + (a^6 + a^4 + a^3 + a + 1)*x2*x4 + (a^6 + a^4 + a^3 + a + 1)*x3*x4 + (a^6 + a^4 + a^3 + a + 1)*x0*x5 + (a^6 + a^4 + a^3 + a + 1)*x4*x5 + (a^6 + a^4 + a^3 + a + 1)*x0*x6 + (a^6 + a^4 + a^3 + a + 1)*x1*x6 + (a^6 + a^4 + a^3 + a + 1)*x2*x6 + (a^6 + a^4 + a^3 + a + 1)*x1 + (a^6 + a^4 + a^3 + a + 1)*x5 + (a^6 + a^3 + 1)*x6,\n",
    "  (a^6 + a^4 + a^3 + a + 1)*x1*x2 + (a^6 + a^4 + a^3 + a + 1)*x0*x3 + (a^6 + a^4 + a^3 + a + 1)*x1*x3 + (a^6 + a^4 + a^3 + a + 1)*x0*x5 + (a^6 + a^4 + a^3 + a + 1)*x2*x5 + (a^6 + a^4 + a^3 + a + 1)*x4*x5 + (a^6 + a^4 + a^3 + a + 1)*x1*x6 + (a^6 + a^4 + a^3 + a + 1)*x2*x6 + (a^6 + a^4 + a^3 + a + 1)*x5*x6 + (a^6 + a^3 + 1)*x3 + (a^6 + a^4 + a^3 + a + 1)*x4 + (a^6 + a^4 + a^3 + a + 1)*x5 + (a^4 + a)*x6])"
   ]
  },
  {
   "cell_type": "code",
   "execution_count": 92,
   "metadata": {},
   "outputs": [],
   "source": [
    "c = (0, 1, 0, 0, 0, 1, 1)"
   ]
  },
  {
   "cell_type": "code",
   "execution_count": 93,
   "metadata": {},
   "outputs": [
    {
     "data": {
      "text/plain": [
       "Finite Field of size 2"
      ]
     },
     "execution_count": 93,
     "metadata": {},
     "output_type": "execute_result"
    }
   ],
   "source": [
    "K"
   ]
  },
  {
   "cell_type": "code",
   "execution_count": 94,
   "metadata": {},
   "outputs": [],
   "source": [
    "K, p = public_key\n",
    "S = [p[i] - c[i] for i in range(N)]"
   ]
  },
  {
   "cell_type": "code",
   "execution_count": null,
   "metadata": {},
   "outputs": [],
   "source": []
  },
  {
   "cell_type": "code",
   "execution_count": 95,
   "metadata": {},
   "outputs": [
    {
     "data": {
      "text/plain": [
       "[(a^4 + a)*x0 + (a^6 + a^4 + a^3 + a + 1)*x1*x5 + (a^6 + a^4 + a^3 + a + 1)*x1*x6 + (a^6 + a^4 + a^3 + a + 1)*x2*x3 + (a^6 + a^4 + a^3 + a + 1)*x2*x5 + (a^6 + a^4 + a^3 + a + 1)*x3*x4 + (a^6 + a^4 + a^3 + a + 1)*x3*x6 + (a^6 + a^4 + a^3 + a + 1)*x4*x5 + (a^6 + a^4 + a^3 + a + 1)*x4*x6 + (a^6 + a^4 + a^3 + a + 1)*x5*x6 + (a^6 + a^4 + a^3 + a + 1)*x5 + (a^6 + a^5 + a^4 + a + 1),\n",
       " (a^6 + a^4 + a^3 + a + 1)*x0*x1 + (a^6 + a^4 + a^3 + a + 1)*x0*x2 + (a^6 + a^4 + a^3 + a + 1)*x0*x5 + (a^6 + a^4 + a^3 + a + 1)*x1*x4 + (a^6 + a^4 + a^3 + a + 1)*x1*x5 + (a^6 + a^4 + a^3 + a + 1)*x1*x6 + (a^6 + a^4 + a^3 + a + 1)*x3*x4 + (a^6 + a^4 + a^3 + a + 1)*x3 + (a^6 + a^4 + a^3 + a + 1)*x4*x5 + (a^6 + a^4 + a^3 + a + 1)*x4*x6 + (a^4 + a)*x4 + (a^6 + a^4 + a^3 + a + 1)*x5*x6 + (a^6 + a^4 + a^3 + a + 1)*x5 + 1,\n",
       " (a^6 + a^4 + a^3 + a + 1)*x0*x4 + (a^6 + a^4 + a^3 + a + 1)*x0*x5 + (a^6 + a^4 + a^3 + a + 1)*x1*x2 + (a^6 + a^4 + a^3 + a + 1)*x1*x4 + (a^6 + a^3 + 1)*x1 + (a^6 + a^4 + a^3 + a + 1)*x2*x3 + (a^6 + a^4 + a^3 + a + 1)*x2*x5 + (a^6 + a^4 + a^3 + a + 1)*x3*x4 + (a^6 + a^4 + a^3 + a + 1)*x3*x5 + (a^6 + a^4 + a^3 + a + 1)*x4*x5 + (a^6 + a^4 + a^3 + a + 1)*x4*x6 + (a^4 + a)*x4 + (a^6 + a^4 + a^3 + a + 1)*x5*x6 + (a^6 + a^4 + a^3 + a + 1)*x6,\n",
       " (a^6 + a^4 + a^3 + a + 1)*x0*x3 + (a^6 + a^4 + a^3 + a + 1)*x0*x6 + (a^6 + a^4 + a^3 + a + 1)*x1*x2 + (a^6 + a^4 + a^3 + a + 1)*x1*x4 + (a^6 + a^4 + a^3 + a + 1)*x1*x6 + (a^6 + a^4 + a^3 + a + 1)*x2*x5 + (a^6 + a^4 + a^3 + a + 1)*x2 + (a^6 + a^4 + a^3 + a + 1)*x3*x6 + (a^6 + a^4 + a^3 + a + 1)*x3 + (a^6 + a^4 + a^3 + a + 1)*x4*x6 + (a^6 + a^3 + 1)*x5,\n",
       " (a^6 + a^4 + a^3 + a + 1)*x0*x1 + (a^6 + a^4 + a^3 + a + 1)*x0*x6 + (a^6 + a^4 + a^3 + a + 1)*x2*x3 + (a^6 + a^4 + a^3 + a + 1)*x2*x4 + (a^6 + a^4 + a^3 + a + 1)*x2*x5 + (a^4 + a)*x2 + (a^6 + a^4 + a^3 + a + 1)*x3*x4 + (a^6 + a^4 + a^3 + a + 1)*x3*x5 + (a^6 + a^4 + a^3 + a + 1)*x3*x6 + (a^6 + a^4 + a^3 + a + 1)*x4*x5 + (a^4 + a)*x5,\n",
       " (a^6 + a^4 + a^3 + a + 1)*x0*x3 + (a^6 + a^4 + a^3 + a + 1)*x0*x5 + (a^6 + a^4 + a^3 + a + 1)*x0*x6 + (a^6 + a^4 + a^3 + a + 1)*x1*x4 + (a^6 + a^4 + a^3 + a + 1)*x1*x6 + (a^6 + a^4 + a^3 + a + 1)*x1 + (a^6 + a^4 + a^3 + a + 1)*x2*x3 + (a^6 + a^4 + a^3 + a + 1)*x2*x4 + (a^6 + a^4 + a^3 + a + 1)*x2*x6 + (a^6 + a^4 + a^3 + a + 1)*x3*x4 + (a^6 + a^4 + a^3 + a + 1)*x4*x5 + (a^6 + a^4 + a^3 + a + 1)*x5 + (a^6 + a^3 + 1)*x6 + 1,\n",
       " (a^6 + a^4 + a^3 + a + 1)*x0*x3 + (a^6 + a^4 + a^3 + a + 1)*x0*x5 + (a^6 + a^4 + a^3 + a + 1)*x1*x2 + (a^6 + a^4 + a^3 + a + 1)*x1*x3 + (a^6 + a^4 + a^3 + a + 1)*x1*x6 + (a^6 + a^4 + a^3 + a + 1)*x2*x5 + (a^6 + a^4 + a^3 + a + 1)*x2*x6 + (a^6 + a^3 + 1)*x3 + (a^6 + a^4 + a^3 + a + 1)*x4*x5 + (a^6 + a^4 + a^3 + a + 1)*x4 + (a^6 + a^4 + a^3 + a + 1)*x5*x6 + (a^6 + a^4 + a^3 + a + 1)*x5 + (a^4 + a)*x6 + 1]"
      ]
     },
     "execution_count": 95,
     "metadata": {},
     "output_type": "execute_result"
    }
   ],
   "source": [
    "S"
   ]
  },
  {
   "cell_type": "code",
   "execution_count": 96,
   "metadata": {},
   "outputs": [],
   "source": [
    "Ip = Ideal(S)"
   ]
  },
  {
   "cell_type": "code",
   "execution_count": 97,
   "metadata": {},
   "outputs": [],
   "source": [
    "Ip_grob = Ip.groebner_basis()"
   ]
  },
  {
   "cell_type": "code",
   "execution_count": 119,
   "metadata": {},
   "outputs": [],
   "source": [
    "K.<X> = PolynomialRing(GF(2).algebraic_closure())"
   ]
  },
  {
   "cell_type": "code",
   "execution_count": 120,
   "metadata": {},
   "outputs": [
    {
     "data": {
      "text/plain": [
       "x6^120 + (a^6 + a^5 + a^4 + a^3 + a^2 + a)*x6^119 + (a^6 + a^5 + a^3)*x6^118 + (a^6 + a^4 + a^3 + 1)*x6^117 + (a^5 + a)*x6^116 + (a^6 + a^5 + a^3 + a^2 + 1)*x6^115 + (a^6 + a^4 + a^3)*x6^114 + (a^3)*x6^113 + (a^5 + a^3 + 1)*x6^112 + (a^6 + a^5 + a^4 + a + 1)*x6^111 + (a^3)*x6^110 + (a^3 + a)*x6^109 + (a^2 + a)*x6^108 + (a^5 + a^4 + a + 1)*x6^107 + (a^5 + a^4 + a^2)*x6^106 + (a^6 + a^5 + a^4 + a^3 + a^2)*x6^105 + (a^6 + a^5 + a^3 + a^2 + 1)*x6^104 + (a^6 + a^3 + a + 1)*x6^103 + (a^3 + a^2)*x6^102 + (a^6 + a^5 + a^2 + a + 1)*x6^101 + (a^6 + a^4 + a^3)*x6^100 + (a^3 + a^2 + a)*x6^99 + (a^5 + a^3 + a^2 + a)*x6^98 + (a^6 + a^5 + a^3 + a^2 + 1)*x6^97 + (a^6 + a^5 + 1)*x6^96 + (a^6 + a^5 + a^2)*x6^95 + (a^5 + a^3)*x6^94 + (a^6 + a^4)*x6^93 + (a^3 + a)*x6^92 + (a^5 + a^4 + a + 1)*x6^91 + (a^6 + a^3 + a + 1)*x6^90 + (a^4 + a^3)*x6^89 + (a^6 + a^3 + a^2 + a + 1)*x6^88 + (a^6 + a^5 + a^2 + a)*x6^87 + (a^4 + a^3 + 1)*x6^86 + (a^5 + a^3 + a + 1)*x6^85 + (a^5 + a^4 + a^3 + a^2 + a)*x6^84 + (a^5 + a^4 + a^3 + a)*x6^83 + (a^5 + a^3 + a + 1)*x6^82 + (a^6 + a^3 + 1)*x6^81 + (a^6 + a^5 + a^3 + a^2 + a + 1)*x6^80 + (a^6 + a^5 + a^4 + a^3 + a^2)*x6^79 + (a^6 + a^5 + a^4 + a^3)*x6^78 + (a^2 + 1)*x6^77 + (a^6 + a^5 + a^4 + a)*x6^76 + (a^2 + 1)*x6^75 + (a^6 + a^5 + a^4 + a + 1)*x6^74 + (a)*x6^73 + (a^6 + a^4 + a^3 + a^2 + a + 1)*x6^72 + (a^6 + a^5 + a^3 + 1)*x6^71 + (a^5 + a^4 + a^3 + a^2 + a)*x6^70 + (a^5 + a^3 + a^2 + a)*x6^69 + (a^2 + a)*x6^68 + (a^6 + a^5 + a^4 + a^3 + a^2 + a + 1)*x6^67 + (a^6 + a^4 + a^3 + a^2 + 1)*x6^66 + (a^5 + a^4 + a^2 + a)*x6^65 + (a^5 + a^3 + a^2 + a)*x6^64 + (a^6 + a^5 + a^4 + a^2 + a + 1)*x6^63 + (a^6 + a)*x6^62 + (a^5 + a^3 + a^2)*x6^61 + (a^6 + a^4 + a^3 + a^2 + a)*x6^60 + (a^2 + a)*x6^59 + (a^6 + a^3 + a)*x6^58 + (a^5 + a^4)*x6^57 + (a^6 + a^5 + a^3 + 1)*x6^56 + (a^6 + a^4 + a^3 + a + 1)*x6^55 + (a^5 + a^4 + a^3 + a^2 + 1)*x6^54 + (a^6 + a^4 + a^2 + 1)*x6^53 + (a^6 + a^4 + a^3 + a^2)*x6^52 + (a^6 + a^4 + a^2 + 1)*x6^51 + (a^4 + a^2 + a)*x6^50 + (a^4 + a^3 + a)*x6^49 + (a^6 + a^3)*x6^48 + (a^5 + a^4)*x6^47 + (a^6 + a^4 + a^3)*x6^46 + (a^6 + a^5 + a^3 + a^2)*x6^45 + (a^6 + a^4 + a)*x6^44 + (a^5 + a^4 + a)*x6^43 + (a^3 + a^2 + a)*x6^42 + (a^6 + a^5 + a^4)*x6^41 + (a^6 + a^5 + a)*x6^40 + (a^6 + a^5 + a^4 + a^2 + a + 1)*x6^39 + (a^4 + a^2 + a)*x6^38 + (a^6 + a^5 + a^4 + a^2 + 1)*x6^37 + (a^3 + a^2 + 1)*x6^36 + (a^4 + a)*x6^35 + (a^6 + a^4 + a^3 + a^2)*x6^34 + (a^6 + a^5 + a^4 + a)*x6^33 + (a^6 + a^5 + a^4 + a^3 + a)*x6^32 + (a^5 + a^3)*x6^31 + (a^6 + a^5 + a^3 + a^2 + a)*x6^30 + (a^6 + a^4 + a^3 + a^2 + 1)*x6^29 + (a^6 + a^5 + a^3 + a^2 + a + 1)*x6^28 + (a^6 + a^5 + a^2 + a)*x6^27 + (a^6 + a^4 + a^3 + a + 1)*x6^26 + (a^6 + a^4 + a^2 + a + 1)*x6^25 + (a^6 + a^5 + a^3 + a)*x6^24 + (a^6 + a^5 + a)*x6^23 + (a^5 + a^4 + a^3 + a^2 + a)*x6^22 + (a^6 + a^4 + a^2 + a + 1)*x6^21 + (a^5 + a^2 + a + 1)*x6^20 + (a^6 + a^5 + a^3 + a^2 + 1)*x6^19 + (a^6 + 1)*x6^18 + (a^5 + a^3 + a^2 + a + 1)*x6^17 + (a^6 + a^5 + a^2 + a + 1)*x6^16 + (a^5 + a^4 + a^3 + a^2 + a + 1)*x6^15 + (a^6 + a^5 + a^4 + a)*x6^14 + (a^4 + a^3 + a^2 + 1)*x6^13 + (a^4 + a^2 + a)*x6^12 + (a^5 + a^4 + a^3 + a)*x6^11 + (a^5 + a^3 + 1)*x6^10 + (a^6 + a^3 + a^2 + 1)*x6^9 + (a^3 + a + 1)*x6^8 + (a^5 + a)*x6^7 + (a^6 + a^5 + a^3 + 1)*x6^6 + (a^6)*x6^5 + (a^6 + a)*x6^4 + (a^6 + a^5 + a^4 + a^3 + a^2 + a + 1)*x6^3 + (a^6 + a^4 + a)*x6^2 + (a^6 + a^4 + a^2 + a)*x6 + (a)"
      ]
     },
     "execution_count": 120,
     "metadata": {},
     "output_type": "execute_result"
    }
   ],
   "source": [
    "f  = Ip_grob[6]\n",
    "f"
   ]
  },
  {
   "cell_type": "code",
   "execution_count": 126,
   "metadata": {},
   "outputs": [
    {
     "ename": "TypeError",
     "evalue": "unsupported operand parent(s) for *: 'Finite Field in a of size 2^7' and 'Univariate Polynomial Ring in X over Algebraic closure of Finite Field of size 2'",
     "output_type": "error",
     "traceback": [
      "\u001b[1;31m---------------------------------------------------------------------------\u001b[0m",
      "\u001b[1;31mTypeError\u001b[0m                                 Traceback (most recent call last)",
      "\u001b[1;32m<ipython-input-126-179fbac7dddb>\u001b[0m in \u001b[0;36m<module>\u001b[1;34m\u001b[0m\n\u001b[1;32m----> 1\u001b[1;33m \u001b[1;33m[\u001b[0m\u001b[0mL_N\u001b[0m\u001b[1;33m(\u001b[0m\u001b[0mi\u001b[0m\u001b[1;33m)\u001b[0m\u001b[1;33m*\u001b[0m\u001b[0mX\u001b[0m\u001b[1;33m**\u001b[0m\u001b[0mj\u001b[0m \u001b[1;32mfor\u001b[0m \u001b[0mj\u001b[0m\u001b[1;33m,\u001b[0m\u001b[0mi\u001b[0m \u001b[1;32min\u001b[0m \u001b[0menumerate\u001b[0m\u001b[1;33m(\u001b[0m\u001b[0mlist\u001b[0m\u001b[1;33m(\u001b[0m\u001b[0mf\u001b[0m\u001b[1;33m.\u001b[0m\u001b[0mpolynomial\u001b[0m\u001b[1;33m(\u001b[0m\u001b[0mM\u001b[0m\u001b[1;33m(\u001b[0m\u001b[1;34m'x6'\u001b[0m\u001b[1;33m)\u001b[0m\u001b[1;33m)\u001b[0m\u001b[1;33m)\u001b[0m\u001b[1;33m)\u001b[0m\u001b[1;33m]\u001b[0m\u001b[1;33m\u001b[0m\u001b[1;33m\u001b[0m\u001b[0m\n\u001b[0m",
      "\u001b[1;32m<ipython-input-126-179fbac7dddb>\u001b[0m in \u001b[0;36m<listcomp>\u001b[1;34m(.0)\u001b[0m\n\u001b[1;32m----> 1\u001b[1;33m \u001b[1;33m[\u001b[0m\u001b[0mL_N\u001b[0m\u001b[1;33m(\u001b[0m\u001b[0mi\u001b[0m\u001b[1;33m)\u001b[0m\u001b[1;33m*\u001b[0m\u001b[0mX\u001b[0m\u001b[1;33m**\u001b[0m\u001b[0mj\u001b[0m \u001b[1;32mfor\u001b[0m \u001b[0mj\u001b[0m\u001b[1;33m,\u001b[0m\u001b[0mi\u001b[0m \u001b[1;32min\u001b[0m \u001b[0menumerate\u001b[0m\u001b[1;33m(\u001b[0m\u001b[0mlist\u001b[0m\u001b[1;33m(\u001b[0m\u001b[0mf\u001b[0m\u001b[1;33m.\u001b[0m\u001b[0mpolynomial\u001b[0m\u001b[1;33m(\u001b[0m\u001b[0mM\u001b[0m\u001b[1;33m(\u001b[0m\u001b[1;34m'x6'\u001b[0m\u001b[1;33m)\u001b[0m\u001b[1;33m)\u001b[0m\u001b[1;33m)\u001b[0m\u001b[1;33m)\u001b[0m\u001b[1;33m]\u001b[0m\u001b[1;33m\u001b[0m\u001b[1;33m\u001b[0m\u001b[0m\n\u001b[0m",
      "\u001b[1;32m~/SageMath/local/lib/python3.9/site-packages/sage/structure/element.pyx\u001b[0m in \u001b[0;36msage.structure.element.Element.__mul__ (build/cythonized/sage/structure/element.c:12205)\u001b[1;34m()\u001b[0m\n\u001b[0;32m   1513\u001b[0m             \u001b[1;32mreturn\u001b[0m \u001b[1;33m(\u001b[0m\u001b[1;33m<\u001b[0m\u001b[0mElement\u001b[0m\u001b[1;33m>\u001b[0m\u001b[0mleft\u001b[0m\u001b[1;33m)\u001b[0m\u001b[1;33m.\u001b[0m\u001b[0m_mul_\u001b[0m\u001b[1;33m(\u001b[0m\u001b[0mright\u001b[0m\u001b[1;33m)\u001b[0m\u001b[1;33m\u001b[0m\u001b[1;33m\u001b[0m\u001b[0m\n\u001b[0;32m   1514\u001b[0m         \u001b[1;32mif\u001b[0m \u001b[0mBOTH_ARE_ELEMENT\u001b[0m\u001b[1;33m(\u001b[0m\u001b[0mcl\u001b[0m\u001b[1;33m)\u001b[0m\u001b[1;33m:\u001b[0m\u001b[1;33m\u001b[0m\u001b[1;33m\u001b[0m\u001b[0m\n\u001b[1;32m-> 1515\u001b[1;33m             \u001b[1;32mreturn\u001b[0m \u001b[0mcoercion_model\u001b[0m\u001b[1;33m.\u001b[0m\u001b[0mbin_op\u001b[0m\u001b[1;33m(\u001b[0m\u001b[0mleft\u001b[0m\u001b[1;33m,\u001b[0m \u001b[0mright\u001b[0m\u001b[1;33m,\u001b[0m \u001b[0mmul\u001b[0m\u001b[1;33m)\u001b[0m\u001b[1;33m\u001b[0m\u001b[1;33m\u001b[0m\u001b[0m\n\u001b[0m\u001b[0;32m   1516\u001b[0m \u001b[1;33m\u001b[0m\u001b[0m\n\u001b[0;32m   1517\u001b[0m         \u001b[0mcdef\u001b[0m \u001b[0mlong\u001b[0m \u001b[0mvalue\u001b[0m\u001b[1;33m\u001b[0m\u001b[1;33m\u001b[0m\u001b[0m\n",
      "\u001b[1;32m~/SageMath/local/lib/python3.9/site-packages/sage/structure/coerce.pyx\u001b[0m in \u001b[0;36msage.structure.coerce.CoercionModel.bin_op (build/cythonized/sage/structure/coerce.c:11708)\u001b[1;34m()\u001b[0m\n\u001b[0;32m   1246\u001b[0m         \u001b[1;31m# We should really include the underlying error.\u001b[0m\u001b[1;33m\u001b[0m\u001b[1;33m\u001b[0m\u001b[1;33m\u001b[0m\u001b[0m\n\u001b[0;32m   1247\u001b[0m         \u001b[1;31m# This causes so much headache.\u001b[0m\u001b[1;33m\u001b[0m\u001b[1;33m\u001b[0m\u001b[1;33m\u001b[0m\u001b[0m\n\u001b[1;32m-> 1248\u001b[1;33m         \u001b[1;32mraise\u001b[0m \u001b[0mbin_op_exception\u001b[0m\u001b[1;33m(\u001b[0m\u001b[0mop\u001b[0m\u001b[1;33m,\u001b[0m \u001b[0mx\u001b[0m\u001b[1;33m,\u001b[0m \u001b[0my\u001b[0m\u001b[1;33m)\u001b[0m\u001b[1;33m\u001b[0m\u001b[1;33m\u001b[0m\u001b[0m\n\u001b[0m\u001b[0;32m   1249\u001b[0m \u001b[1;33m\u001b[0m\u001b[0m\n\u001b[0;32m   1250\u001b[0m     \u001b[0mcpdef\u001b[0m \u001b[0mcanonical_coercion\u001b[0m\u001b[1;33m(\u001b[0m\u001b[0mself\u001b[0m\u001b[1;33m,\u001b[0m \u001b[0mx\u001b[0m\u001b[1;33m,\u001b[0m \u001b[0my\u001b[0m\u001b[1;33m)\u001b[0m\u001b[1;33m:\u001b[0m\u001b[1;33m\u001b[0m\u001b[1;33m\u001b[0m\u001b[0m\n",
      "\u001b[1;31mTypeError\u001b[0m: unsupported operand parent(s) for *: 'Finite Field in a of size 2^7' and 'Univariate Polynomial Ring in X over Algebraic closure of Finite Field of size 2'"
     ]
    }
   ],
   "source": [
    "[L_N(i)*X^j for j,i in enumerate(list(f.polynomial(M('x6'))))]"
   ]
  },
  {
   "cell_type": "code",
   "execution_count": null,
   "metadata": {},
   "outputs": [],
   "source": []
  },
  {
   "cell_type": "code",
   "execution_count": 19,
   "metadata": {},
   "outputs": [],
   "source": [
    "x1,x2,x3 = K('x1'),K('x2'),K('x3')"
   ]
  },
  {
   "cell_type": "code",
   "execution_count": 166,
   "metadata": {},
   "outputs": [],
   "source": [
    "def monome_degree(K,d):\n",
    "    var = [K(i) for i in K.variable_names()]\n",
    "    n = len(var)\n",
    "    l = []\n",
    "    for i in range(n):\n",
    "        l += [i]*n \n",
    "    A = Arrangements(l,d).list()\n",
    "    T = []\n",
    "    for B in A:\n",
    "        t = 1\n",
    "        for i in B:\n",
    "            t *= var[i]\n",
    "        T += [t]\n",
    "    return T\n",
    "\n",
    "def matrice_Macaulay(F,d):\n",
    "    K = F[0].parent()\n",
    "    T = monome_degree(K,d)\n",
    "    T.sort()\n",
    "    M = []\n",
    "    for fi in F:\n",
    "        di = fi.degree()\n",
    "        Tfi = monome_degree(K,d-di)\n",
    "        for ti in Tfi:\n",
    "            g = K(ti*fi)\n",
    "            g_lin = []\n",
    "            for i in T:\n",
    "                if i in g.monomials():\n",
    "                    g_lin += [g.monomial_coefficient(i)]\n",
    "                else:\n",
    "                    g_lin += [0]\n",
    "            M += [g_lin]\n",
    "    return matrix(M)"
   ]
  },
  {
   "cell_type": "code",
   "execution_count": 167,
   "metadata": {},
   "outputs": [],
   "source": [
    "F = [K.random_element() for i in range(4)]"
   ]
  },
  {
   "cell_type": "code",
   "execution_count": 174,
   "metadata": {},
   "outputs": [],
   "source": [
    "M = matrice_Macaulay(F,3)"
   ]
  },
  {
   "cell_type": "code",
   "execution_count": 176,
   "metadata": {},
   "outputs": [],
   "source": [
    "M.echelonize()"
   ]
  },
  {
   "cell_type": "code",
   "execution_count": 178,
   "metadata": {},
   "outputs": [
    {
     "data": {
      "text/plain": [
       "'[1 0 0 0 0 0 0 0 0 0 0 0 0 0 0 0 0 0 0 0 0 0 0 0 0 0 0 0 0 0 0 0 0 0 0 0 0 0 0 0 0 0 0 0 0 0 0 0 0 0 0 0 0 0 0 0 0 0 0 0 0 0 0 0]\\n[0 1 1 1 0 0 0 0 0 0 0 0 0 0 0 0 0 0 0 0 0 0 0 0 0 0 0 0 0 0 0 0 0 0 0 0 0 0 0 0 0 0 0 0 0 0 0 0 0 0 0 0 0 0 0 0 0 0 0 0 0 0 0 0]\\n[0 0 0 0 1 1 1 0 0 0 0 0 0 0 0 0 0 0 0 0 0 0 0 0 0 0 0 0 0 0 0 0 0 0 0 0 0 0 0 0 0 0 0 0 0 0 0 0 0 0 0 0 0 0 0 0 0 0 0 0 0 0 0 0]\\n[0 0 0 0 0 0 0 1 1 1 0 0 0 0 0 0 0 0 0 0 0 0 0 0 0 0 0 0 0 0 0 0 0 0 0 0 0 0 0 0 0 0 0 0 0 0 0 0 0 0 0 0 0 0 0 0 0 0 0 0 0 0 0 0]\\n[0 0 0 0 0 0 0 0 0 0 1 1 1 0 0 0 0 0 0 0 0 0 0 0 0 0 0 0 0 0 0 0 0 0 0 0 0 0 0 0 0 0 0 0 0 0 0 0 0 0 0 0 0 0 0 0 0 0 0 0 0 0 0 0]\\n[0 0 0 0 0 0 0 0 0 0 0 0 0 1 1 1 1 1 1 0 0 0 0 0 0 0 0 0 0 0 0 0 0 0 0 0 0 0 0 0 0 0 0 0 0 0 0 0 0 0 0 0 0 0 0 0 0 0 0 0 0 0 0 0]\\n[0 0 0 0 0 0 0 0 0 0 0 0 0 0 0 0 0 0 0 1 1 1 1 1 1 0 0 0 0 0 0 0 0 0 0 0 0 0 0 0 0 0 0 0 0 0 0 0 0 0 0 0 0 0 0 0 0 0 0 0 0 0 0 0]\\n[0 0 0 0 0 0 0 0 0 0 0 0 0 0 0 0 0 0 0 0 0 0 0 0 0 1 1 1 0 0 0 0 0 0 0 0 0 0 0 0 0 0 0 0 0 0 0 0 0 0 0 0 0 0 0 0 0 0 0 0 0 0 0 0]\\n[0 0 0 0 0 0 0 0 0 0 0 0 0 0 0 0 0 0 0 0 0 0 0 0 0 0 0 0 1 1 1 1 1 1 0 0 0 0 0 0 0 0 0 0 0 0 0 0 0 0 0 0 0 0 0 0 0 0 0 0 0 0 0 0]\\n[0 0 0 0 0 0 0 0 0 0 0 0 0 0 0 0 0 0 0 0 0 0 0 0 0 0 0 0 0 0 0 0 0 0 0 0 0 1 0 0 0 0 0 0 0 0 0 0 0 0 0 0 0 0 0 0 0 0 0 0 0 0 0 0]\\n[0 0 0 0 0 0 0 0 0 0 0 0 0 0 0 0 0 0 0 0 0 0 0 0 0 0 0 0 0 0 0 0 0 0 0 0 0 0 1 1 1 0 0 0 0 0 0 0 0 0 0 0 0 0 0 0 0 0 0 0 0 0 0 0]\\n[0 0 0 0 0 0 0 0 0 0 0 0 0 0 0 0 0 0 0 0 0 0 0 0 0 0 0 0 0 0 0 0 0 0 0 0 0 0 0 0 0 1 1 1 0 0 0 0 0 0 0 0 0 0 0 0 0 0 0 0 0 0 0 0]\\n[0 0 0 0 0 0 0 0 0 0 0 0 0 0 0 0 0 0 0 0 0 0 0 0 0 0 0 0 0 0 0 0 0 0 0 0 0 0 0 0 0 0 0 0 1 1 1 0 0 0 0 0 0 0 0 0 0 0 0 0 0 0 0 0]\\n[0 0 0 0 0 0 0 0 0 0 0 0 0 0 0 0 0 0 0 0 0 0 0 0 0 0 0 0 0 0 0 0 0 0 0 0 0 0 0 0 0 0 0 0 0 0 0 1 1 1 1 1 1 0 0 0 0 0 0 0 0 0 0 0]\\n[0 0 0 0 0 0 0 0 0 0 0 0 0 0 0 0 0 0 0 0 0 0 0 0 0 0 0 0 0 0 0 0 0 0 0 0 0 0 0 0 0 0 0 0 0 0 0 0 0 0 0 0 0 1 1 1 0 0 0 0 0 0 0 0]\\n[0 0 0 0 0 0 0 0 0 0 0 0 0 0 0 0 0 0 0 0 0 0 0 0 0 0 0 0 0 0 0 0 0 0 0 0 0 0 0 0 0 0 0 0 0 0 0 0 0 0 0 0 0 0 0 0 0 0 0 0 0 0 0 0]'"
      ]
     },
     "execution_count": 178,
     "metadata": {},
     "output_type": "execute_result"
    }
   ],
   "source": [
    "M.str()"
   ]
  },
  {
   "cell_type": "code",
   "execution_count": null,
   "metadata": {},
   "outputs": [],
   "source": []
  }
 ],
 "metadata": {
  "kernelspec": {
   "display_name": "SageMath 9.3",
   "language": "sage",
   "name": "sagemath"
  },
  "language_info": {
   "codemirror_mode": {
    "name": "ipython",
    "version": 3
   },
   "file_extension": ".py",
   "mimetype": "text/x-python",
   "name": "python",
   "nbconvert_exporter": "python",
   "pygments_lexer": "ipython3",
   "version": "3.9.2"
  }
 },
 "nbformat": 4,
 "nbformat_minor": 4
}
