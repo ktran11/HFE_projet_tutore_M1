{
 "cells": [
  {
   "cell_type": "markdown",
   "metadata": {},
   "source": [
    "# Element de base pour HFE "
   ]
  },
  {
   "cell_type": "code",
   "execution_count": 1,
   "metadata": {},
   "outputs": [],
   "source": [
    "p = 2\n",
    "m = 1\n",
    "q = p^m\n",
    "K.<alpha> = GF(q)\n",
    "N = 12\n",
    "L_N.<a> = GF(q^N)\n",
    "P = L_N._modulus"
   ]
  },
  {
   "cell_type": "code",
   "execution_count": 2,
   "metadata": {},
   "outputs": [],
   "source": [
    "x = ['x'+str(k) for k in range(N)]\n",
    "M = PolynomialRing(L_N,N,x)\n",
    "I = M.ideal([M(x[i])^q - M(x[i]) for i in range(N)])\n",
    "Q = M.quotient(I)\n",
    "\n",
    "R.<X> = PolynomialRing(M)\n",
    "S = R.quotient(R(P))\n",
    "\n",
    "variable = sum([M(x[i])*X^i for i in range(N)])\n",
    "\n",
    "def HFE_representation_polynome(f):\n",
    "    \"\"\"\n",
    "    Entrée: f, un polynôme de L_N[X] qui vérifie les conditions d'HFE\n",
    "    Sortie: (p0,p1,..,pn), polynôme de Fq[x0,..,xn] tel que \n",
    "            f(x0,..,xn) = (p0(x0,..,xn),.., pn(x0,..xn))\n",
    "    \"\"\"\n",
    "    f_prime = R(f) # on regarde f dans l'anneau L_N[x1,...,xN][X]\n",
    "\n",
    "    f_prime = S(f_prime(variable))\n",
    "    g =M(f_prime.lift()(a))\n",
    "    \n",
    "    f = 0\n",
    "    for i in g.monomials():\n",
    "        f+= (X^L_N(g.monomial_coefficient(i)).log(a)*i)\n",
    "    # on evalue f en x0 + x1*X + .. + xN*X^N \n",
    "    # que l'on quotiente par le polynome irr de l'extension \n",
    "    # cela nous donne un polynôme de degrée N en X ce qui va nous donner les pi\n",
    "    p_list = [Q(pi).lift() for pi in list(S(f).lift())]\n",
    "    \n",
    "    return p_list"
   ]
  },
  {
   "cell_type": "markdown",
   "metadata": {},
   "source": [
    "# Mise en place du cryptosystème HFE"
   ]
  },
  {
   "cell_type": "code",
   "execution_count": 3,
   "metadata": {},
   "outputs": [],
   "source": [
    "def HFE_function(d, number_coeff):\n",
    "    \"\"\"\n",
    "    Entrée: d, degrée de f qui est somme de deux puissances de q\n",
    "            number_coeff, nombre de coefficient non nul de f au plus\n",
    "    Sortie: f, polynôme valide pour HFE\n",
    "    \"\"\"\n",
    "    \n",
    "    coeff = [L_N.random_element() for i in range(number_coeff)]\n",
    "    f = 0\n",
    "    lim = abs(floor(log(d,q)-1))\n",
    "    for i in range(len(coeff)-2):\n",
    "        theta = randint(0,lim)\n",
    "        phi = randint(0,lim)\n",
    "        f += coeff[i] * X^(q^theta + q^phi)\n",
    "        \n",
    "    mu_0 = L_N.random_element()\n",
    "    f += mu_0 + coeff[-1] * X^d \n",
    "    return f"
   ]
  },
  {
   "cell_type": "code",
   "execution_count": 4,
   "metadata": {},
   "outputs": [],
   "source": [
    "def HFE_generates_keys(d, number_coeff):\n",
    "    f = HFE_function(d, number_coeff)\n",
    "    \n",
    "    T.<Y> = PolynomialRing(L_N)\n",
    "\n",
    "    s = R(T.random_element(1))\n",
    "    t = R(T.random_element(1))\n",
    "    \n",
    "    p_list = HFE_representation_polynome(s(f(t)))\n",
    "    private_key = (L_N,f,s,t)\n",
    "    public_key = (K, p_list)\n",
    "    return public_key, private_key "
   ]
  },
  {
   "cell_type": "code",
   "execution_count": 5,
   "metadata": {},
   "outputs": [],
   "source": [
    "# example 1 page 5 Patarin avec le clair\n",
    "def HFE_redundancy(m):\n",
    "    \"\"\" TO DO \"\"\"\n",
    "# example 2 Patarin avec le chiffré\n",
    "def HFE_redundancy_2(y):\n",
    "    \"\"\" TO DO \"\"\"\n",
    "    "
   ]
  },
  {
   "cell_type": "code",
   "execution_count": 6,
   "metadata": {},
   "outputs": [],
   "source": [
    "def HFE_encryption(m, public_key):\n",
    "    \"\"\"\n",
    "    Entrée: m, on supposera qu'il s'agit d'un élément de (F_q)^n\n",
    "    Sortie: c, c = HFE(m)\n",
    "    \"\"\"\n",
    "    #redundancy = HFE_redundancy(m)\n",
    "    K, p_list = public_key\n",
    "    m = tuple(m)\n",
    "    return [p(m) for p in p_list]"
   ]
  },
  {
   "cell_type": "code",
   "execution_count": 7,
   "metadata": {},
   "outputs": [],
   "source": [
    "def HFE_decryption(y, private_key):\n",
    "    L_N, f, s, t = private_key\n",
    "    a = L_N([0,1])\n",
    "    y = sum([y[i]*a**i for i in range(N)])\n",
    "\n",
    "    list_s = list(s)\n",
    "    s_inv = list_s[1]**(-1) * (X - list_s[0])\n",
    "    list_t = list(t)\n",
    "    t_inv = list_t[1]**(-1) * (X - list_t[0])\n",
    "        \n",
    "    ft = s_inv(y)\n",
    "    \n",
    "    v = tuple((L_N^N).zero())\n",
    "    \n",
    "    roots = (f-ft).roots(multiplicities = False)\n",
    "    m = [L_N.vector_space(map = false)((t_inv(r))(v)) for r in roots]\n",
    "   \n",
    "    return m"
   ]
  },
  {
   "cell_type": "code",
   "execution_count": 8,
   "metadata": {},
   "outputs": [
    {
     "data": {
      "text/plain": [
       "0.605991"
      ]
     },
     "execution_count": 8,
     "metadata": {},
     "output_type": "execute_result"
    }
   ],
   "source": [
    "t = cputime()\n",
    "public_key, private_key = HFE_generates_keys(12, 4)\n",
    "cputime(t)"
   ]
  },
  {
   "cell_type": "code",
   "execution_count": 60,
   "metadata": {},
   "outputs": [
    {
     "data": {
      "text/plain": [
       "(Finite Field in a of size 2^12,\n",
       " ((a^10 + a^8 + a^7 + a^2 + 1))*X^12 + ((a^10 + a^9 + a^7 + a^4 + a^3))*X^8 + ((a^11 + a^10 + a^9 + a^8 + a^7 + a^5 + a^2 + a + 1))*X^2 + (a^8 + a^6 + a^5 + a^4),\n",
       " ((a^11 + a^7 + a^4 + a^3 + a))*X + (a^10 + a^9 + a^7 + a^3 + a),\n",
       " ((a^11 + a^9 + a^6))*X + (a^11 + a^9 + a^8 + a^6 + a^5 + a^4 + a^2))"
      ]
     },
     "execution_count": 60,
     "metadata": {},
     "output_type": "execute_result"
    }
   ],
   "source": [
    "private_key"
   ]
  },
  {
   "cell_type": "code",
   "execution_count": 74,
   "metadata": {},
   "outputs": [
    {
     "data": {
      "text/plain": [
       "[(1, 0, 0, 0, 1, 1, 1, 1, 1, 0, 0, 0),\n",
       " (0, 1, 1, 0, 0, 0, 0, 0, 1, 1, 0, 0),\n",
       " (1, 1, 0, 0, 1, 0, 0, 0, 1, 1, 0, 0)]"
      ]
     },
     "execution_count": 74,
     "metadata": {},
     "output_type": "execute_result"
    }
   ],
   "source": [
    "v = L_N.vector_space(map=False)(L_N.random_element())\n",
    "p = HFE_encryption(v,public_key)\n",
    "m = HFE_decryption(p, private_key)\n",
    "m"
   ]
  },
  {
   "cell_type": "code",
   "execution_count": 75,
   "metadata": {},
   "outputs": [
    {
     "data": {
      "text/plain": [
       "(1, 0, 0, 0, 1, 1, 1, 1, 1, 0, 0, 0)"
      ]
     },
     "execution_count": 75,
     "metadata": {},
     "output_type": "execute_result"
    }
   ],
   "source": [
    "v"
   ]
  },
  {
   "cell_type": "code",
   "execution_count": 76,
   "metadata": {},
   "outputs": [],
   "source": [
    "def solve_sys(S,B):\n",
    "    def solve_sys_rec(S,expens,i):\n",
    "        expension = expens.copy()\n",
    "        if i == 0:\n",
    "            return expension\n",
    "        Scopy = S.copy()\n",
    "        f = Scopy[i-1]\n",
    "        if f == 0:\n",
    "            return solve_sys_rec(Scopy,expension,i-1)\n",
    "        f = f.univariate_polynomial()\n",
    "        root = f.roots(multiplicities = False)\n",
    "        key = f.variable_name()\n",
    "        if (len(root) == 1):\n",
    "            r = root[0]\n",
    "            new_S = []\n",
    "            expension[B(key)] = r\n",
    "            for s in Scopy:\n",
    "                new_S += [s.subs(expension)] \n",
    "            return solve_sys_rec(new_S,expension,i-1)\n",
    "        res = []\n",
    "        for r in root:\n",
    "            new_S = []\n",
    "            expension[B(key)] = r\n",
    "            for s in Scopy:\n",
    "                new_S += [s.subs(expension)] \n",
    "            res += [solve_sys_rec(new_S,expension,i-1)]        \n",
    "        return res\n",
    "    \n",
    "    expension = {B(xi):B(xi) for xi in x}\n",
    "    l = solve_sys_rec(S, expension, len(S))\n",
    "    return (l)"
   ]
  },
  {
   "cell_type": "code",
   "execution_count": 77,
   "metadata": {},
   "outputs": [],
   "source": [
    "def HFE_cryptanalysisI(public_key,p):\n",
    "    K,Sys = public_key\n",
    "    N = len(Sys)\n",
    "    x = Sys[0].variables()\n",
    "    B = PolynomialRing(K,N,x, order = 'lex')\n",
    "    Sys = [Sys[i] - p[i] for i in range(N)] + [B(xi)^2-B(xi) for xi in x]\n",
    "    IS = Ideal(B,Sys)\n",
    "    Sols = IS.groebner_basis(deg_bound = 3)\n",
    "    return solve_sys(Sols,B)"
   ]
  },
  {
   "cell_type": "code",
   "execution_count": 78,
   "metadata": {},
   "outputs": [
    {
     "data": {
      "text/plain": [
       "[[{x0: 0,\n",
       "   x1: 0,\n",
       "   x2: 1,\n",
       "   x3: 0,\n",
       "   x4: 0,\n",
       "   x5: 1,\n",
       "   x6: 1,\n",
       "   x7: 1,\n",
       "   x8: 1,\n",
       "   x9: 0,\n",
       "   x10: 0,\n",
       "   x11: 0},\n",
       "  {x0: 1,\n",
       "   x1: 0,\n",
       "   x2: 0,\n",
       "   x3: 0,\n",
       "   x4: 1,\n",
       "   x5: 1,\n",
       "   x6: 1,\n",
       "   x7: 1,\n",
       "   x8: 1,\n",
       "   x9: 0,\n",
       "   x10: 0,\n",
       "   x11: 0}],\n",
       " [{x0: 0,\n",
       "   x1: 1,\n",
       "   x2: 1,\n",
       "   x3: 0,\n",
       "   x4: 0,\n",
       "   x5: 0,\n",
       "   x6: 0,\n",
       "   x7: 0,\n",
       "   x8: 1,\n",
       "   x9: 1,\n",
       "   x10: 0,\n",
       "   x11: 0},\n",
       "  {x0: 1,\n",
       "   x1: 1,\n",
       "   x2: 0,\n",
       "   x3: 0,\n",
       "   x4: 1,\n",
       "   x5: 0,\n",
       "   x6: 0,\n",
       "   x7: 0,\n",
       "   x8: 1,\n",
       "   x9: 1,\n",
       "   x10: 0,\n",
       "   x11: 0}]]"
      ]
     },
     "execution_count": 78,
     "metadata": {},
     "output_type": "execute_result"
    }
   ],
   "source": [
    "HFE_cryptanalysisI(public_key,p)"
   ]
  },
  {
   "cell_type": "code",
   "execution_count": 79,
   "metadata": {},
   "outputs": [
    {
     "data": {
      "text/plain": [
       "[(1, 0, 0, 0, 1, 1, 1, 1, 1, 0, 0, 0),\n",
       " (0, 1, 1, 0, 0, 0, 0, 0, 1, 1, 0, 0),\n",
       " (1, 1, 0, 0, 1, 0, 0, 0, 1, 1, 0, 0)]"
      ]
     },
     "execution_count": 79,
     "metadata": {},
     "output_type": "execute_result"
    }
   ],
   "source": [
    "m"
   ]
  },
  {
   "cell_type": "code",
   "execution_count": 80,
   "metadata": {},
   "outputs": [
    {
     "data": {
      "text/plain": [
       "(1, 0, 0, 0, 1, 1, 1, 1, 1, 0, 0, 0)"
      ]
     },
     "execution_count": 80,
     "metadata": {},
     "output_type": "execute_result"
    }
   ],
   "source": [
    "v"
   ]
  },
  {
   "cell_type": "code",
   "execution_count": null,
   "metadata": {},
   "outputs": [],
   "source": []
  }
 ],
 "metadata": {
  "kernelspec": {
   "display_name": "SageMath 9.3",
   "language": "sage",
   "name": "sagemath"
  },
  "language_info": {
   "codemirror_mode": {
    "name": "ipython",
    "version": 3
   },
   "file_extension": ".py",
   "mimetype": "text/x-python",
   "name": "python",
   "nbconvert_exporter": "python",
   "pygments_lexer": "ipython3",
   "version": "3.9.2"
  }
 },
 "nbformat": 4,
 "nbformat_minor": 4
}
