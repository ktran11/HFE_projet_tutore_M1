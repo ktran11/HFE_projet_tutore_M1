{
 "cells": [
  {
   "cell_type": "markdown",
   "metadata": {},
   "source": [
    "# Element de base pour HFE "
   ]
  },
  {
   "cell_type": "code",
   "execution_count": 188,
   "metadata": {},
   "outputs": [],
   "source": [
    "p = 2\n",
    "m = 1\n",
    "q = p^m\n",
    "K.<alpha> = GF(q)\n",
    "N = 20\n",
    "L_N.<a> = GF(q^N)\n",
    "P = L_N._modulus"
   ]
  },
  {
   "cell_type": "code",
   "execution_count": 189,
   "metadata": {},
   "outputs": [],
   "source": [
    "x = ['x'+str(k) for k in range(N)]\n",
    "M = PolynomialRing(L_N,N,x)\n",
    "I = M.ideal([M(x[i])^q - M(x[i]) for i in range(N)])\n",
    "Q = M.quotient(I)\n",
    "\n",
    "R.<X> = PolynomialRing(M)\n",
    "S = R.quotient(R(P))\n",
    "\n",
    "variable = sum([M(x[i])*X^i for i in range(N)])\n",
    "\n",
    "def HFE_representation_polynome(f):\n",
    "    \"\"\"\n",
    "    Entrée: f, un polynôme de K[X] qui vérifie les conditions d'HFE\n",
    "    Sortie: (p0,p1,..,pn), polynôme de Fq[x0,..,xn] tel que \n",
    "            f(x0,..,xn) = (p0(x0,..,xn),.., pn(x0,..xn))\n",
    "    \"\"\"\n",
    "    f_prime = R(f)\n",
    "    p_list = [Q(i).lift() for i in list(S(f_prime(variable)))]\n",
    "    return p_list"
   ]
  },
  {
   "cell_type": "code",
   "execution_count": 190,
   "metadata": {},
   "outputs": [],
   "source": [
    "def test_HFE_rep():\n",
    "    T.<Y> = PolynomialRing(L_N)\n",
    "    f = R(T.random_element(5))\n",
    "    return representation_polynome_HFE(f)\n",
    "\n",
    "#test_HFE_rep()"
   ]
  },
  {
   "cell_type": "markdown",
   "metadata": {},
   "source": [
    "# Mise en place du cryptosystème HFE"
   ]
  },
  {
   "cell_type": "code",
   "execution_count": 191,
   "metadata": {},
   "outputs": [],
   "source": [
    "def HFE_function(d, number_coeff):\n",
    "    \"\"\"\n",
    "    Entrée: d, degrée de f qui est somme de deux puissances de q\n",
    "            number_coeff, nombre de coefficient non nul de f au plus\n",
    "    Sortie: f, polynôme valide pour HFE\n",
    "    \"\"\"\n",
    "    \n",
    "    coeff = [L_N.random_element() for i in range(number_coeff)]\n",
    "    f = 0\n",
    "    lim = floor(log(d,q)-1)\n",
    "    for i in range(len(coeff)-2):\n",
    "        theta = randint(0,lim)\n",
    "        phi = randint(0,lim)\n",
    "        f += coeff[i] * X^(q^theta + q^phi)\n",
    "        \n",
    "    mu_0 =  L_N.random_element()\n",
    "    f += mu_0 + coeff[-1] * X^d \n",
    "    return f"
   ]
  },
  {
   "cell_type": "code",
   "execution_count": 193,
   "metadata": {},
   "outputs": [],
   "source": [
    "def HFE_generates_keys(d, number_coeff):\n",
    "    f = HFE_function(d, number_coeff)\n",
    "    \n",
    "    T.<Y> = PolynomialRing(L_N)\n",
    "\n",
    "    s = R(T.random_element(1))\n",
    "    t = R(T.random_element(1))\n",
    "    \n",
    "    p_list = HFE_representation_polynome(s(f(t)))\n",
    "    private_key = (L_N,f,s,t)\n",
    "    public_key = (K, p_list)\n",
    "    return public_key, private_key "
   ]
  },
  {
   "cell_type": "code",
   "execution_count": 194,
   "metadata": {},
   "outputs": [],
   "source": [
    "# example 1 page 5 Patarin avec le clair\n",
    "def HFE_redundancy(m):\n",
    "    \"\"\" TO DO \"\"\"\n",
    "# example 2 Patarin avec le chiffré\n",
    "def HFE_redundancy_2(y):\n",
    "    \"\"\" TO DO \"\"\"\n",
    "    "
   ]
  },
  {
   "cell_type": "code",
   "execution_count": 195,
   "metadata": {},
   "outputs": [],
   "source": [
    "def HFE_encryption(m, public_key):\n",
    "    \"\"\"\n",
    "    Entrée: m, on supposera qu'il s'agit d'un élément de (F_q)^n\n",
    "    Sortie: c, c = HFE(m)\n",
    "    \"\"\"\n",
    "    #redundancy = HFE_redundancy(m)\n",
    "    K, p_list = public_key\n",
    "    m = tuple(m)\n",
    "    return [p(m) for p in p_list]"
   ]
  },
  {
   "cell_type": "code",
   "execution_count": 196,
   "metadata": {},
   "outputs": [],
   "source": [
    "def HFE_decryption(y, private_key):\n",
    "    L_N, f, s, t = private_key\n",
    "    a = L_N([0,1])\n",
    "    y = sum([y[i]*a**i for i in range(N)])\n",
    "\n",
    "    list_s = list(s)\n",
    "    s_inv = list_s[1]**(-1) * (X - list_s[0])\n",
    "    list_t = list(t)\n",
    "    t_inv = list_t[1]**(-1) * (X - list_t[0])\n",
    "        \n",
    "    ft = s_inv(y)\n",
    "    \n",
    "    v = tuple((L_N^N).zero())\n",
    "    \n",
    "    roots = (f-ft).roots(multiplicities = False)\n",
    "    m = [L_N.vector_space(map = false)((t_inv(r))(v)) for r in roots]\n",
    "   \n",
    "    return m"
   ]
  },
  {
   "cell_type": "code",
   "execution_count": 202,
   "metadata": {},
   "outputs": [],
   "source": [
    "public_key, private_key = HFE_generates_keys(20, 3)"
   ]
  },
  {
   "cell_type": "code",
   "execution_count": 203,
   "metadata": {},
   "outputs": [
    {
     "data": {
      "text/plain": [
       "[(0, 0, 1, 0, 1, 1, 1, 0, 1, 0, 1, 1, 0, 0, 1, 1, 0, 0, 1, 1),\n",
       " (0, 0, 0, 0, 0, 0, 0, 0, 0, 1, 0, 1, 0, 1, 0, 0, 0, 1, 1, 1),\n",
       " (1, 0, 0, 0, 1, 1, 0, 1, 0, 0, 0, 0, 0, 0, 0, 1, 1, 0, 1, 1),\n",
       " (1, 0, 1, 1, 1, 1, 1, 1, 1, 0, 1, 1, 1, 0, 0, 1, 0, 0, 1, 1)]"
      ]
     },
     "execution_count": 203,
     "metadata": {},
     "output_type": "execute_result"
    }
   ],
   "source": [
    "v = L_N.vector_space(map=False)(L_N.random_element())\n",
    "p = HFE_encryption(v,public_key)\n",
    "m = HFE_decryption(p, private_key)\n",
    "m"
   ]
  },
  {
   "cell_type": "code",
   "execution_count": 206,
   "metadata": {},
   "outputs": [
    {
     "data": {
      "text/plain": [
       "(0, 0, 1, 0, 1, 1, 1, 0, 1, 0, 1, 1, 0, 0, 1, 1, 0, 0, 1, 1)"
      ]
     },
     "execution_count": 206,
     "metadata": {},
     "output_type": "execute_result"
    }
   ],
   "source": [
    "v "
   ]
  },
  {
   "cell_type": "code",
   "execution_count": null,
   "metadata": {},
   "outputs": [],
   "source": []
  }
 ],
 "metadata": {
  "kernelspec": {
   "display_name": "SageMath 9.3",
   "language": "sage",
   "name": "sagemath"
  },
  "language_info": {
   "codemirror_mode": {
    "name": "ipython",
    "version": 3
   },
   "file_extension": ".py",
   "mimetype": "text/x-python",
   "name": "python",
   "nbconvert_exporter": "python",
   "pygments_lexer": "ipython3",
   "version": "3.9.2"
  }
 },
 "nbformat": 4,
 "nbformat_minor": 4
}
