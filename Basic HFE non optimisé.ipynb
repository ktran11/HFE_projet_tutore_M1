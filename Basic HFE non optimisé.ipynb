{
 "cells": [
  {
   "cell_type": "markdown",
   "metadata": {},
   "source": [
    "# Element de base pour HFE "
   ]
  },
  {
   "cell_type": "code",
   "execution_count": 1,
   "metadata": {},
   "outputs": [],
   "source": [
    "p = 2\n",
    "m = 1\n",
    "q = p^m\n",
    "K.<alpha> = GF(q)\n",
    "N = 10\n",
    "L_N.<a> = GF(q^N)\n",
    "P = L_N._modulus"
   ]
  },
  {
   "cell_type": "code",
   "execution_count": 2,
   "metadata": {},
   "outputs": [],
   "source": [
    "x = ['x'+str(k) for k in range(N)]\n",
    "M = PolynomialRing(L_N,N,x)\n",
    "I = M.ideal([M(x[i])^q - M(x[i]) for i in range(N)])\n",
    "Q = M.quotient(I)\n",
    "\n",
    "R.<X> = PolynomialRing(M)\n",
    "S = R.quotient(R(P))\n",
    "\n",
    "variable = sum([M(x[i])*X^i for i in range(N)])\n",
    "\n",
    "def HFE_representation_polynome(f):\n",
    "    \"\"\"\n",
    "    Entrée: f, un polynôme de K[X] qui vérifie les conditions d'HFE\n",
    "    Sortie: (p0,p1,..,pn), polynôme de Fq[x0,..,xn] tel que \n",
    "            f(x0,..,xn) = (p0(x0,..,xn),.., pn(x0,..xn))\n",
    "    \"\"\"\n",
    "    f_prime = R(f)\n",
    "    p_list = [Q(i).lift() for i in list(S(f_prime(variable)))]\n",
    "    return p_list"
   ]
  },
  {
   "cell_type": "code",
   "execution_count": 4,
   "metadata": {},
   "outputs": [],
   "source": [
    "def test_HFE_rep():\n",
    "    T.<Y> = PolynomialRing(L_N)\n",
    "    f = R(T.random_element(5))\n",
    "    return representation_polynome_HFE(f)\n",
    "\n",
    "#test_HFE_rep()"
   ]
  },
  {
   "cell_type": "markdown",
   "metadata": {},
   "source": [
    "# Mise en place du cryptosystème HFE"
   ]
  },
  {
   "cell_type": "code",
   "execution_count": null,
   "metadata": {},
   "outputs": [],
   "source": [
    "def HFE_function(d):\n",
    "    \"\"\" TO DO \"\"\""
   ]
  },
  {
   "cell_type": "code",
   "execution_count": null,
   "metadata": {},
   "outputs": [],
   "source": [
    "def HFE_generates_keys(d):\n",
    "    \"\"\" TO DO \"\"\"\n",
    "    f = HFE_function(d)\n",
    "    \n",
    "    T.<Y> = PolynomialRing(L_N)\n",
    "\n",
    "    s = T.random_element(1)\n",
    "    t = T.random_element(1)\n",
    "    \n",
    "    \n",
    "    p_list = representation_polynome_HFE(s(f(t)))\n",
    "    private_key = (L_N,f,s,t)\n",
    "    public_key = (K, p_list)\n",
    "    return public_key, private_key "
   ]
  },
  {
   "cell_type": "code",
   "execution_count": 11,
   "metadata": {},
   "outputs": [],
   "source": [
    "# example 1 page 5 Patarin avec le clair\n",
    "def HFE_redundancy(m):\n",
    "    \"\"\" TO DO \"\"\"\n",
    "# example 2 Patarin avec le chiffré\n",
    "def HFE_redundancy_2(y):\n",
    "    \"\"\" TO DO \"\"\""
   ]
  },
  {
   "cell_type": "code",
   "execution_count": 7,
   "metadata": {},
   "outputs": [],
   "source": [
    "def HFE_encryption(m, public_key):\n",
    "    \"\"\" TO DO \"\"\"\n",
    "    redundancy = HFE_redundancy(m)"
   ]
  },
  {
   "cell_type": "code",
   "execution_count": null,
   "metadata": {},
   "outputs": [],
   "source": [
    "def HFE_decryption(y, private_key):\n",
    "    \"\"\" TO DO \"\"\""
   ]
  }
 ],
 "metadata": {
  "kernelspec": {
   "display_name": "SageMath 9.3",
   "language": "sage",
   "name": "sagemath"
  },
  "language_info": {
   "codemirror_mode": {
    "name": "ipython",
    "version": 3
   },
   "file_extension": ".py",
   "mimetype": "text/x-python",
   "name": "python",
   "nbconvert_exporter": "python",
   "pygments_lexer": "ipython3",
   "version": "3.9.2"
  }
 },
 "nbformat": 4,
 "nbformat_minor": 4
}
