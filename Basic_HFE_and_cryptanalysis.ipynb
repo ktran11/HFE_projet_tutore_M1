{
 "cells": [
  {
   "cell_type": "markdown",
   "metadata": {},
   "source": [
    "# Parameters and constructions"
   ]
  },
  {
   "cell_type": "code",
   "execution_count": 162,
   "metadata": {},
   "outputs": [],
   "source": [
    "p = 2\n",
    "m = 1\n",
    "q = p^m\n",
    "K.<alpha> = GF(q)\n",
    "N = 15\n",
    "L_N.<a> = GF(q^N)\n",
    "P = L_N._modulus"
   ]
  },
  {
   "cell_type": "code",
   "execution_count": 163,
   "metadata": {},
   "outputs": [],
   "source": [
    "x = ['x'+str(k) for k in range(N)]\n",
    "M = PolynomialRing(L_N,N,x)\n",
    "I = M.ideal([M(x[i])^q - M(x[i]) for i in range(N)])\n",
    "Q = M.quotient(I)\n",
    "\n",
    "R.<X> = PolynomialRing(M)\n",
    "S = R.quotient(R(P))\n",
    "\n",
    "variable22 = sum([Q(x[i])*a^i for i in range(N)])\n",
    "\n",
    "def HFE_representation_polynome(f):\n",
    "    \"\"\"\n",
    "    Param: f, a polynomial in L_N[X] \n",
    "    Return: (p0,p1,..,pn), polynomials in Fq[x0,..,xN-1] such that \n",
    "            f(x0,..,xn) = (p0(x0,..,xn),.., pn(x0,..xn))\n",
    "    \"\"\"\n",
    "    p_list = vector([0]*N)\n",
    "    for i in f(variable22).lift():\n",
    "        p_list += vector(i[0])*i[1]\n",
    " \n",
    "    return p_list"
   ]
  },
  {
   "cell_type": "markdown",
   "metadata": {},
   "source": [
    "# HFE Cryptosystem"
   ]
  },
  {
   "cell_type": "code",
   "execution_count": 164,
   "metadata": {},
   "outputs": [],
   "source": [
    "def HFE_function(d, number_coeff):\n",
    "    \"\"\"\n",
    "    Param: d, degree of f \n",
    "            number_coeff, number of coefficient nonzero of f\n",
    "    Sortie: f, polynomial which verify the HFE conditions\n",
    "    \"\"\"\n",
    "    \n",
    "    coeff = [L_N.random_element() for i in range(number_coeff)]\n",
    "    f = 0\n",
    "    lim = abs(floor(log(d,q)-1))\n",
    "    for i in range(len(coeff)-2):\n",
    "        theta = randint(0,lim)\n",
    "        phi = randint(0,lim)\n",
    "        f += coeff[i] * X^(q^theta + q^phi)\n",
    "        \n",
    "    mu_0 = L_N.random_element()\n",
    "    f += mu_0 + coeff[-1] * X^d \n",
    "    return f"
   ]
  },
  {
   "cell_type": "code",
   "execution_count": 165,
   "metadata": {},
   "outputs": [],
   "source": [
    "def HFE_generates_keys(d, number_coeff):\n",
    "    f = HFE_function(d, number_coeff)\n",
    "    \n",
    "    T.<Y> = PolynomialRing(L_N)\n",
    "\n",
    "    s = R(T.random_element(1))\n",
    "    t = R(T.random_element(1))\n",
    "    \n",
    "    p_list = HFE_representation_polynome(s(f(t)))\n",
    "    private_key = (L_N,f,s,t)\n",
    "    public_key = (K, p_list)\n",
    "    return public_key, private_key "
   ]
  },
  {
   "cell_type": "code",
   "execution_count": 166,
   "metadata": {},
   "outputs": [],
   "source": [
    "def HFE_encryption(m, public_key):\n",
    "    \"\"\"\n",
    "    Param: m, an element of (F_q)^N\n",
    "    Return: c, c = HFE(m)\n",
    "    \"\"\"\n",
    "    K, p_list = public_key\n",
    "    m = tuple(m)\n",
    "    return [p(m) for p in p_list]"
   ]
  },
  {
   "cell_type": "code",
   "execution_count": 167,
   "metadata": {},
   "outputs": [],
   "source": [
    "def HFE_decryption(y, private_key):\n",
    "    L_N, f, s, t = private_key\n",
    "    a = L_N([0,1])\n",
    "    y = sum([y[i]*a**i for i in range(N)])\n",
    "\n",
    "    list_s = list(s)\n",
    "    s_inv = list_s[1]**(-1) * (X - list_s[0])\n",
    "    list_t = list(t)\n",
    "    t_inv = list_t[1]**(-1) * (X - list_t[0])\n",
    "        \n",
    "    ft = s_inv(y)\n",
    "    \n",
    "    v = tuple((L_N^N).zero())\n",
    "    \n",
    "    roots = (f-ft).roots(multiplicities = False)\n",
    "    m = [L_N.vector_space(map = false)((t_inv(r))(v)) for r in roots]\n",
    "   \n",
    "    return m"
   ]
  },
  {
   "cell_type": "markdown",
   "metadata": {},
   "source": [
    "## Example and verification"
   ]
  },
  {
   "cell_type": "code",
   "execution_count": 168,
   "metadata": {},
   "outputs": [
    {
     "data": {
      "text/plain": [
       "0.08805200000000468"
      ]
     },
     "execution_count": 168,
     "metadata": {},
     "output_type": "execute_result"
    }
   ],
   "source": [
    "t = cputime()\n",
    "public_key, private_key = HFE_generates_keys(10,9)\n",
    "cputime(t)"
   ]
  },
  {
   "cell_type": "code",
   "execution_count": 169,
   "metadata": {},
   "outputs": [
    {
     "data": {
      "text/plain": [
       "(Finite Field in a of size 2^15,\n",
       " ((a^14 + a^11 + a^7 + a^4 + a^2 + a))*X^10 + ((a^14 + a^13 + a^11 + a^7 + a^6 + a^5 + a^4 + a^3 + a))*X^8 + ((a^14 + a^13 + a^11 + a^10 + a^9 + a^7 + a^6 + a^5 + a^2 + 1))*X^5 + ((a^12 + a^11 + a^9 + a^7 + a^6 + a^5 + a^3 + a^2 + a))*X^4 + ((a^12 + a^11 + a^9 + a^8 + a^6 + a^5 + a^3 + a^2 + a))*X^3 + ((a^14 + a^13 + a^9 + a^8 + a^6 + a^5 + a^4 + a^3 + a))*X^2 + (a^14 + a^13 + a^7 + a^6 + a^5 + a^4 + a^3 + a^2 + a),\n",
       " ((a^11 + a^9 + a^7 + a^4 + a))*X + (a^14 + a^13 + a^11 + a^10 + a^9 + a^6 + a^4 + a^3),\n",
       " ((a^14 + a^13 + a^12 + a^10 + a^7 + a^5 + a^4 + 1))*X + (a^14 + a^13 + a^11 + a^10 + a^7 + a^5 + a^3 + a^2 + a))"
      ]
     },
     "execution_count": 169,
     "metadata": {},
     "output_type": "execute_result"
    }
   ],
   "source": [
    "private_key"
   ]
  },
  {
   "cell_type": "code",
   "execution_count": 186,
   "metadata": {},
   "outputs": [
    {
     "data": {
      "text/plain": [
       "[(0, 0, 0, 0, 0, 0, 1, 0, 1, 1, 1, 0, 1, 0, 0)]"
      ]
     },
     "execution_count": 186,
     "metadata": {},
     "output_type": "execute_result"
    }
   ],
   "source": [
    "plaintext = L_N.vector_space(map=False)(L_N.random_element())\n",
    "cyphertext = HFE_encryption(plaintext,public_key)\n",
    "m = HFE_decryption(cyphertext, private_key)\n",
    "m"
   ]
  },
  {
   "cell_type": "code",
   "execution_count": 187,
   "metadata": {},
   "outputs": [
    {
     "data": {
      "text/plain": [
       "(0, 0, 0, 0, 0, 0, 1, 0, 1, 1, 1, 0, 1, 0, 0)"
      ]
     },
     "execution_count": 187,
     "metadata": {},
     "output_type": "execute_result"
    }
   ],
   "source": [
    "plaintext "
   ]
  },
  {
   "cell_type": "markdown",
   "metadata": {},
   "source": [
    "# Cryptanalysis with Gröbner basis"
   ]
  },
  {
   "cell_type": "code",
   "execution_count": 188,
   "metadata": {},
   "outputs": [],
   "source": [
    "def solve_sys(S,B):\n",
    "    def solve_sys_rec(S,expens,i):\n",
    "        expension = expens.copy()\n",
    "        if i == 0:\n",
    "            return expension\n",
    "        Scopy = S.copy()\n",
    "        f = Scopy[i-1]\n",
    "        if f == 0:\n",
    "            return solve_sys_rec(Scopy,expension,i-1)\n",
    "        f = f.univariate_polynomial()\n",
    "        root = f.roots(multiplicities = False)\n",
    "        key = f.variable_name()\n",
    "        if (len(root) == 1):\n",
    "            r = root[0]\n",
    "            new_S = []\n",
    "            expension[B(key)] = r\n",
    "            for s in Scopy:\n",
    "                new_S += [s.subs(expension)] \n",
    "            return solve_sys_rec(new_S,expension,i-1)\n",
    "        res = []\n",
    "        for r in root:\n",
    "            new_S = []\n",
    "            expension[B(key)] = r\n",
    "            for s in Scopy:\n",
    "                new_S += [s.subs(expension)] \n",
    "            res += [solve_sys_rec(new_S,expension,i-1)]        \n",
    "        return res\n",
    "    expension = {B(xi):B(xi) for xi in x}\n",
    "    l = solve_sys_rec(S, expension, len(S))\n",
    "    return (l)"
   ]
  },
  {
   "cell_type": "code",
   "execution_count": 189,
   "metadata": {},
   "outputs": [],
   "source": [
    "def HFE_cryptanalysisI(public_key,p):\n",
    "    K,Sys = public_key\n",
    "    N = len(Sys)\n",
    "    x = Sys[0].variables()\n",
    "    B = PolynomialRing(K,N,x, order = 'lex')\n",
    "    Sys = [Sys[i] - p[i] for i in range(N)] + [B(xi)^2-B(xi) for xi in x]\n",
    "    IS = Ideal(B,Sys)\n",
    "    Sols = IS.groebner_basis()\n",
    "    return solve_sys(Sols,B)"
   ]
  },
  {
   "cell_type": "code",
   "execution_count": 174,
   "metadata": {},
   "outputs": [],
   "source": [
    "def HFE_cryptanalysisII(public_key,p):\n",
    "    K,Sys = public_key\n",
    "    N = len(Sys)\n",
    "    x = Sys[0].variables()\n",
    "    B = PolynomialRing(K,N,x)\n",
    "    Sys = [Sys[i] - p[i] for i in range(N)] + [B(xi)^2-B(xi) for xi in x]\n",
    "    IS = Ideal(B,Sys)\n",
    "    Sols = IS.groebner_basis()\n",
    "    ISols = Sols.ideal()\n",
    "    P = PolynomialRing(K,N,x,order = 'lex')\n",
    "    I = list(ISols.transformed_basis('fglm',P))\n",
    "    return solve_sys(I,P)"
   ]
  },
  {
   "cell_type": "markdown",
   "metadata": {},
   "source": [
    "Give a recursive list of dict, we could give a better representation with vector"
   ]
  },
  {
   "cell_type": "code",
   "execution_count": 190,
   "metadata": {},
   "outputs": [
    {
     "name": "stdout",
     "output_type": "stream",
     "text": [
      "12.069910000000021\n"
     ]
    }
   ],
   "source": [
    "t = cputime()\n",
    "mI = (HFE_cryptanalysisI(public_key,cyphertext))\n",
    "print(cputime(t))"
   ]
  },
  {
   "cell_type": "code",
   "execution_count": 191,
   "metadata": {},
   "outputs": [
    {
     "name": "stdout",
     "output_type": "stream",
     "text": [
      "0.39731199999999944\n"
     ]
    }
   ],
   "source": [
    "t = cputime()\n",
    "mII = (HFE_cryptanalysisII(public_key,cyphertext))\n",
    "print(cputime(t))"
   ]
  },
  {
   "cell_type": "code",
   "execution_count": 192,
   "metadata": {},
   "outputs": [
    {
     "data": {
      "text/plain": [
       "True"
      ]
     },
     "execution_count": 192,
     "metadata": {},
     "output_type": "execute_result"
    }
   ],
   "source": [
    "mI == mII"
   ]
  },
  {
   "cell_type": "code",
   "execution_count": 193,
   "metadata": {},
   "outputs": [
    {
     "data": {
      "text/plain": [
       "{x0: 0,\n",
       " x1: 0,\n",
       " x2: 0,\n",
       " x3: 0,\n",
       " x4: 0,\n",
       " x5: 0,\n",
       " x6: 1,\n",
       " x7: 0,\n",
       " x8: 1,\n",
       " x9: 1,\n",
       " x10: 1,\n",
       " x11: 0,\n",
       " x12: 1,\n",
       " x13: 0,\n",
       " x14: 0}"
      ]
     },
     "execution_count": 193,
     "metadata": {},
     "output_type": "execute_result"
    }
   ],
   "source": [
    "mI"
   ]
  },
  {
   "cell_type": "code",
   "execution_count": 194,
   "metadata": {},
   "outputs": [
    {
     "data": {
      "text/plain": [
       "(0, 0, 0, 0, 0, 0, 1, 0, 1, 1, 1, 0, 1, 0, 0)"
      ]
     },
     "execution_count": 194,
     "metadata": {},
     "output_type": "execute_result"
    }
   ],
   "source": [
    "plaintext"
   ]
  }
 ],
 "metadata": {
  "kernelspec": {
   "display_name": "SageMath 9.3",
   "language": "sage",
   "name": "sagemath"
  },
  "language_info": {
   "codemirror_mode": {
    "name": "ipython",
    "version": 3
   },
   "file_extension": ".py",
   "mimetype": "text/x-python",
   "name": "python",
   "nbconvert_exporter": "python",
   "pygments_lexer": "ipython3",
   "version": "3.9.2"
  }
 },
 "nbformat": 4,
 "nbformat_minor": 4
}
