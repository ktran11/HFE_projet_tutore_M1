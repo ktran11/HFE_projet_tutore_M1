{
 "cells": [
  {
   "cell_type": "markdown",
   "metadata": {},
   "source": [
    "## Multiplication Matrix"
   ]
  },
  {
   "cell_type": "markdown",
   "metadata": {},
   "source": [
    "The code are explained in the project report"
   ]
  },
  {
   "cell_type": "code",
   "execution_count": 2,
   "metadata": {},
   "outputs": [],
   "source": [
    "def create_mat_mult(G,EG):\n",
    "    K = G[0].parent()\n",
    "    base = K.base()\n",
    "    x = [K(xi) for xi in K.variable_names()]\n",
    "    degI = len(EG)\n",
    "    N = dict()\n",
    "    n = len(x)\n",
    "    \n",
    "    list_EG_values = list(EG.values())\n",
    "    M = [[[base(0)]*degI]*degI] * n\n",
    "    M = [Matrix(m) for m in M]\n",
    "    \n",
    "    for i,key in enumerate(EG):\n",
    "        ei = EG[key]\n",
    "        N[ei] = ei\n",
    "        for k in range(n):\n",
    "            if (ei % x[k] == 0):\n",
    "                ej = ei // x[k]\n",
    "                if (ej in list_EG_values):\n",
    "                    j = list_EG_values.index(ej)\n",
    "                    M[k][i,j] = 1\n",
    "             \n",
    "    F = [x[j]*EG[i] for j in range(n) for i in EG if (x[j] * EG[i] not in list_EG_values)]\n",
    "    F = list(set(F))\n",
    "    F.sort()\n",
    "    for t in F:\n",
    "        for g in G:\n",
    "            if (t % g.lt() == 0):\n",
    "                if  (t != g.lt()):\n",
    "                    for j in range(n):\n",
    "                        if (t%x[j] == 0):\n",
    "                            t_prime = t//x[j]\n",
    "                            if (t_prime in N):\n",
    "                                if(t_prime not in EG.keys()):\n",
    "                                    col = parent(M[0][:,0])([0]*degI)\n",
    "                                    for m,r in list(N[t_prime]):\n",
    "                                        ind = list_EG_values.index(r)\n",
    "                                        col += m*M[j][:,ind]\n",
    "                                    N[t] = 0\n",
    "                                    for i,j in enumerate(EG):\n",
    "                                        N[t]+=col[i][0]*EG[j]\n",
    "                                    for k in range(n):\n",
    "                                        if (t%x[k] == 0 and t//x[k] in list_EG_values):\n",
    "                                            i = list_EG_values.index(t//x[k])\n",
    "                                            M[k][:,i] = col\n",
    "                else:\n",
    "                    N[t] = t - g\n",
    "                    dic_t = dict([(i,j) for j,i in list(N[t])])\n",
    "                    for k in range(n):\n",
    "                        if (t % x[k] == 0):\n",
    "                            ej = t // x[k]\n",
    "                            if (ej in list_EG_values):\n",
    "                                j = list_EG_values.index(ej)\n",
    "                                for i in range(degI):\n",
    "                                    ei = list_EG_values[i]\n",
    "                                    if (ei in dic_t):\n",
    "                                        M[k][i,j] =  dic_t[ei]\n",
    "    return M,N"
   ]
  },
  {
   "cell_type": "markdown",
   "metadata": {},
   "source": [
    "## FGLM "
   ]
  },
  {
   "cell_type": "code",
   "execution_count": 3,
   "metadata": {},
   "outputs": [],
   "source": [
    "def Update_transition_mat(s,lamb,P_ori):\n",
    "    P = copy(P_ori)\n",
    "    degI = P.dimensions()[0]\n",
    "    for j in lamb.nonzero_positions():\n",
    "        if j > s:\n",
    "            k = j\n",
    "            break\n",
    "            \n",
    "    for j in range(degI):\n",
    "        alpha = P[j,k]/P[k,k]\n",
    "        P[j,k] = P[s+1,j]\n",
    "        P[s+1,j] = alpha\n",
    "        if alpha != 0:\n",
    "            for i in range(degI):\n",
    "                if (i != s+1):\n",
    "                    P[i,j] -= alpha*lamb[i]/lamb[k]\n",
    "                else:\n",
    "                    if (lamb[i] != 0):\n",
    "                        P[i,j] = 1/lamb[i]\n",
    "    return P "
   ]
  },
  {
   "cell_type": "code",
   "execution_count": 4,
   "metadata": {},
   "outputs": [],
   "source": [
    "def FGLM(K,M,EG,N):\n",
    "    \n",
    "    def NF(s):\n",
    "        d = dict([(i,j) for j,i in list(N[s])])\n",
    "        v = []\n",
    "        for i,j in enumerate(EG):\n",
    "            if (j in d.keys()):\n",
    "                v += [d[j]]\n",
    "            else:\n",
    "                v += [0]\n",
    "        return vector(v)\n",
    "\n",
    "    x = [K(xi) for xi in K.variable_names()]\n",
    "    n = len(x)\n",
    "    S = [K(1)]\n",
    "    V = [NF(1)]\n",
    "    L = [(i,0) for i in range(1,n)]\n",
    "    G = []\n",
    "    t = (0,0)\n",
    "    M_space = parent(M[0])\n",
    "    P = M_space.identity_matrix()\n",
    "    while(True):\n",
    "        s = len(S)-1\n",
    "        k,l = t\n",
    "        v = M[k]*V[l]\n",
    "        lamb = P*v\n",
    "        if lamb[s+1:].is_zero():\n",
    "            g = x[k]*S[l]-sum([lamb[i]*S[i] for i in range(s+1)])\n",
    "            if (g != 0):\n",
    "                G += [g]\n",
    "        else:\n",
    "            P = Update_transition_mat(s,lamb,P)\n",
    "            S += [x[k]*S[l]]\n",
    "            V += [v]\n",
    "            L += [(i,s+1) for i in range(n)]\n",
    "            L = list(set(L))\n",
    "        L.sort()\n",
    "        L = [(k,l) for k,l in L if all([x[k]*S[l]%g.lm() != 0 for g in G])]\n",
    "        if L == []:\n",
    "            return G\n",
    "        t = L[0]\n",
    "        L.remove(t)\n"
   ]
  },
  {
   "cell_type": "code",
   "execution_count": 5,
   "metadata": {},
   "outputs": [],
   "source": [
    "def staircase_grobner(G):\n",
    "    ltG = [g.lt() for g in G]\n",
    "    K = parent(G[0])\n",
    "    x = [K(xi) for xi in K.variable_names()]\n",
    "    n = len(x)\n",
    "    EG = dict()\n",
    "    maxdeg = max([g.degree() for g in ltG])\n",
    "   \n",
    "\n",
    "    E = []\n",
    "    for i in range(ZZ([0]*(n-1) + [maxdeg],maxdeg+1)+1):\n",
    "        l = ZZ(i).digits(maxdeg+1)\n",
    "        if (sum(l) <= maxdeg*maxdeg):\n",
    "            E += [l]\n",
    "    for e in E:\n",
    "        r = len(e)\n",
    "        xa = 1\n",
    "        xa = prod([x[i]^e[i] for i in range(r)])\n",
    "        if any([xa%g == 0 for g in ltG]):\n",
    "            continue\n",
    "        else:\n",
    "            EG[K(xa)] = K(xa)\n",
    "    return EG"
   ]
  },
  {
   "cell_type": "markdown",
   "metadata": {},
   "source": [
    "# Example"
   ]
  },
  {
   "cell_type": "code",
   "execution_count": 6,
   "metadata": {},
   "outputs": [],
   "source": [
    "x = ['x1','x2','x3','x4']"
   ]
  },
  {
   "cell_type": "code",
   "execution_count": 7,
   "metadata": {},
   "outputs": [],
   "source": [
    "Q = PolynomialRing(GF(2),names = x,order='lex')\n",
    "x = [Q(xi) for xi in x] \n",
    "x1,x2,x3,x4 = x"
   ]
  },
  {
   "cell_type": "code",
   "execution_count": 8,
   "metadata": {},
   "outputs": [],
   "source": [
    "G = [Q.random_element(10) for i in range(4)]\n",
    "G += [x[i]^2 - x[i] for i in range(len(x))]"
   ]
  },
  {
   "cell_type": "code",
   "execution_count": 9,
   "metadata": {},
   "outputs": [],
   "source": [
    "K = PolynomialRing(GF(2),names = x, order = 'degrevlex')"
   ]
  },
  {
   "cell_type": "code",
   "execution_count": 10,
   "metadata": {},
   "outputs": [],
   "source": [
    "def is_zero_dim_with_grob_basis(G):\n",
    "    K = G[0].parent()\n",
    "    x = [K(xi) for xi in K.variable_names()]\n",
    "    for xi in x:\n",
    "        xi_power_in_G = False\n",
    "        for g in G:\n",
    "            if (g%xi == 0):\n",
    "                xi_power_in_G = True\n",
    "                continue\n",
    "        if (not(xi_power_in_G)):\n",
    "            return False\n",
    "    return True"
   ]
  },
  {
   "cell_type": "code",
   "execution_count": 11,
   "metadata": {},
   "outputs": [
    {
     "data": {
      "text/plain": [
       "True"
      ]
     },
     "execution_count": 11,
     "metadata": {},
     "output_type": "execute_result"
    }
   ],
   "source": [
    "I = Ideal(G)\n",
    "G = I.groebner_basis()\n",
    "is_zero_dim_with_grob_basis(G)"
   ]
  },
  {
   "cell_type": "code",
   "execution_count": 12,
   "metadata": {},
   "outputs": [
    {
     "data": {
      "text/plain": [
       "{1: 1,\n",
       " x1: x1,\n",
       " x2: x2,\n",
       " x1*x2: x1*x2,\n",
       " x3: x3,\n",
       " x1*x3: x1*x3,\n",
       " x2*x3: x2*x3,\n",
       " x1*x2*x3: x1*x2*x3,\n",
       " x4: x4,\n",
       " x2*x4: x2*x4}"
      ]
     },
     "execution_count": 12,
     "metadata": {},
     "output_type": "execute_result"
    }
   ],
   "source": [
    "EG = staircase_grobner(G)\n",
    "EG"
   ]
  },
  {
   "cell_type": "code",
   "execution_count": 13,
   "metadata": {},
   "outputs": [
    {
     "data": {
      "text/plain": [
       "([\n",
       "[0 0 0 0 0 0 0 0 0 0]  [0 0 0 0 0 0 0 0 0 0]  [0 0 0 0 0 0 0 0 0 0]\n",
       "[1 1 0 0 0 0 0 0 0 0]  [0 0 0 0 0 0 0 0 0 0]  [0 0 0 0 0 0 0 0 0 0]\n",
       "[0 0 0 0 0 0 0 0 0 0]  [1 0 1 0 0 0 0 0 0 0]  [0 0 0 0 0 0 0 0 0 0]\n",
       "[0 0 1 1 0 0 0 0 0 0]  [0 1 0 1 0 0 0 0 0 0]  [0 0 0 0 0 0 0 0 0 0]\n",
       "[0 0 0 0 0 0 0 0 0 0]  [0 0 0 0 0 0 0 0 0 0]  [1 0 0 0 1 0 0 0 0 0]\n",
       "[0 0 0 0 1 1 0 0 0 0]  [0 0 0 0 0 0 0 0 0 0]  [0 1 0 0 0 1 0 0 0 0]\n",
       "[0 0 0 0 0 0 0 0 0 0]  [0 0 0 0 1 0 1 0 0 0]  [0 0 1 0 0 0 1 0 0 0]\n",
       "[0 0 0 0 0 0 1 1 0 0]  [0 0 0 0 0 1 0 1 0 0]  [0 0 0 1 0 0 0 1 0 0]\n",
       "[0 0 0 0 0 0 0 0 0 0]  [0 0 0 0 0 0 0 0 0 0]  [0 0 0 0 0 0 0 0 0 0]\n",
       "[0 0 0 0 0 0 0 0 0 0], [0 0 0 0 0 0 0 0 1 1], [0 0 0 0 0 0 0 0 0 0],\n",
       "\n",
       "[0 0 0 0 0 0 0 0 0 0]\n",
       "[0 0 0 0 0 0 0 0 0 0]\n",
       "[0 0 0 0 0 0 0 0 0 0]\n",
       "[0 0 0 0 0 0 0 0 0 0]\n",
       "[0 0 0 0 0 0 0 0 0 0]\n",
       "[0 0 0 0 0 0 0 0 0 0]\n",
       "[0 0 0 0 0 0 0 0 0 0]\n",
       "[0 0 0 0 0 0 0 0 0 0]\n",
       "[1 0 0 0 0 0 0 0 1 0]\n",
       "[0 0 1 0 0 0 0 0 0 1]\n",
       "],\n",
       " {1: 1,\n",
       "  x1: x1,\n",
       "  x2: x2,\n",
       "  x1*x2: x1*x2,\n",
       "  x3: x3,\n",
       "  x1*x3: x1*x3,\n",
       "  x2*x3: x2*x3,\n",
       "  x1*x2*x3: x1*x2*x3,\n",
       "  x4: x4,\n",
       "  x2*x4: x2*x4,\n",
       "  x4^2: x4,\n",
       "  x3*x4: 0,\n",
       "  x3^2: x3,\n",
       "  x2*x4^2: x2*x4,\n",
       "  x2*x3*x4: 0,\n",
       "  x2*x3^2: x2*x3,\n",
       "  x2^2: x2,\n",
       "  x2^2*x4: x2*x4,\n",
       "  x2^2*x3: x2*x3,\n",
       "  x1*x4: 0,\n",
       "  x1*x3*x4: 0,\n",
       "  x1*x3^2: x1*x3,\n",
       "  x1*x2*x4: 0,\n",
       "  x1*x2*x3*x4: 0,\n",
       "  x1*x2*x3^2: x1*x2*x3,\n",
       "  x1*x2^2: x1*x2,\n",
       "  x1*x2^2*x3: x1*x2*x3,\n",
       "  x1^2: x1,\n",
       "  x1^2*x3: x1*x3,\n",
       "  x1^2*x2: x1*x2,\n",
       "  x1^2*x2*x3: x1*x2*x3})"
      ]
     },
     "execution_count": 13,
     "metadata": {},
     "output_type": "execute_result"
    }
   ],
   "source": [
    "M,N = create_mat_mult(G,EG)\n",
    "M,N"
   ]
  },
  {
   "cell_type": "code",
   "execution_count": 14,
   "metadata": {},
   "outputs": [
    {
     "data": {
      "text/plain": [
       "[x1^2 + x1, x2^2 + x2, x3^2 + x3, x1*x4, x3*x4, x4^2 + x4]"
      ]
     },
     "execution_count": 14,
     "metadata": {},
     "output_type": "execute_result"
    }
   ],
   "source": [
    "FGLM(K,M,EG,N)"
   ]
  },
  {
   "cell_type": "markdown",
   "metadata": {},
   "source": [
    "Verify the result with the computation in SageMath"
   ]
  },
  {
   "cell_type": "code",
   "execution_count": 15,
   "metadata": {},
   "outputs": [],
   "source": [
    "G = [K(r) for r in G]"
   ]
  },
  {
   "cell_type": "code",
   "execution_count": 16,
   "metadata": {},
   "outputs": [],
   "source": [
    "I = Ideal(G)"
   ]
  },
  {
   "cell_type": "code",
   "execution_count": 17,
   "metadata": {},
   "outputs": [
    {
     "data": {
      "text/plain": [
       "[x1^2 + x1, x2^2 + x2, x3^2 + x3, x1*x4, x3*x4, x4^2 + x4]"
      ]
     },
     "execution_count": 17,
     "metadata": {},
     "output_type": "execute_result"
    }
   ],
   "source": [
    "I.groebner_basis()"
   ]
  },
  {
   "cell_type": "code",
   "execution_count": null,
   "metadata": {},
   "outputs": [],
   "source": []
  }
 ],
 "metadata": {
  "kernelspec": {
   "display_name": "SageMath 9.3",
   "language": "sage",
   "name": "sagemath"
  },
  "language_info": {
   "codemirror_mode": {
    "name": "ipython",
    "version": 3
   },
   "file_extension": ".py",
   "mimetype": "text/x-python",
   "name": "python",
   "nbconvert_exporter": "python",
   "pygments_lexer": "ipython3",
   "version": "3.9.2"
  }
 },
 "nbformat": 4,
 "nbformat_minor": 4
}
