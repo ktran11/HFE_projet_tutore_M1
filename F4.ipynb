{
 "cells": [
  {
   "cell_type": "markdown",
   "metadata": {},
   "source": [
    "# F4"
   ]
  },
  {
   "cell_type": "code",
   "execution_count": 1,
   "metadata": {},
   "outputs": [],
   "source": [
    "def reduction(p,F):\n",
    "    div_occured = True\n",
    "    while (p != 0 and div_occured):\n",
    "        div_occured = False\n",
    "        lt_p =  p.lt()\n",
    "        for f in F:\n",
    "            lt_f = f.lt()\n",
    "            if (lt_p % lt_f == 0):\n",
    "                p -= (lt_p//lt_f)*f\n",
    "                div_occured = True\n",
    "                break\n",
    "    return p\n",
    "\n",
    "def reduction_totale(p,F):\n",
    "    p0 = 0\n",
    "    while p != 0:\n",
    "        p = reduction(p,F)\n",
    "        lt_p = p.lt()\n",
    "        p0 += lt_p\n",
    "        p -= lt_p\n",
    "    return p0\n",
    "\n",
    "def minGBasis(F):\n",
    "    if F == []:\n",
    "        return []\n",
    "    G = F.copy()\n",
    "    G.sort(reverse = True)\n",
    "    p = G[0]\n",
    "    G.remove(p)\n",
    "    G = minGBasis(G)\n",
    "    if not(any([p.lt() % f.lt() == 0 for f in G])):\n",
    "        G.append(p//p.lc())\n",
    "    return G\n",
    "\n",
    "def base_reduite(F):\n",
    "    G = minGBasis(F)\n",
    "    Gres = []\n",
    "    for gi in G:\n",
    "        Gtemp = G.copy()\n",
    "        Gtemp.remove(gi)\n",
    "        Gres.append(reduction_totale(gi,Gtemp))\n",
    "    return Gres"
   ]
  },
  {
   "cell_type": "code",
   "execution_count": 2,
   "metadata": {},
   "outputs": [],
   "source": [
    "def Pair(f,g):\n",
    "    lm_f, lm_g = f.lm(), g.lm()\n",
    "    ppcm = lcm(lm_f,lm_g)\n",
    "    return (ppcm, ppcm//lm_f, f, ppcm//lm_g, g)\n",
    "\n",
    "def SymbolicPreprocessing(L,G):\n",
    "    F = set(L)\n",
    "    Done = set([f.lm() for f in F])\n",
    "    TF = T(F)\n",
    "    while (TF != Done):\n",
    "        m = (TF.difference(Done)).pop()\n",
    "        Done = Done.union([m])\n",
    "        for g in G:\n",
    "            if (m % g.lm() == 0):\n",
    "                F = F.union([(m//g.lm())*g])\n",
    "    return F\n",
    "\n",
    "def Reduction(L,G):\n",
    "    F = SymbolicPreprocessing(L,G)\n",
    "    ltF = [f.lm() for f in F]\n",
    "    ls = list(T(F))\n",
    "    ls.sort(reverse = True)\n",
    "    F_tilde = []\n",
    "    for f in F:\n",
    "        f_lin = []\n",
    "        for i in ls:\n",
    "            if (i in f.monomials()):\n",
    "                f_lin += [f.monomial_coefficient(i)]\n",
    "            else:\n",
    "                f_lin += [0]\n",
    "        F_tilde += [f_lin]\n",
    "    MF = matrix(F_tilde)\n",
    "    MF.echelonize()\n",
    "    f =  [sum([MF[j][i]*ls[i] for i in range(len(ls))]) for j in range(MF.dimensions()[0])]\n",
    "    f = [fi for fi in f if (fi.lm() not in ltF)]\n",
    "    return set(f)\n",
    "        \n",
    "def T(F):\n",
    "    TF = []\n",
    "    for fi in F:\n",
    "        TF += fi.monomials()\n",
    "    return set(TF)\n",
    "    \n",
    "def Sel(P):\n",
    "    def min_pair(p):\n",
    "        return p[0].degree()\n",
    "    d = min_pair(min(P,key = min_pair))\n",
    "    Pd = set([p for p in P if (p[0].degree() == d)])\n",
    "    return Pd\n"
   ]
  },
  {
   "cell_type": "code",
   "execution_count": 3,
   "metadata": {},
   "outputs": [],
   "source": [
    "def F4(F):\n",
    "    G = set(F)\n",
    "    P = set([Pair(i,j)for i,j in Subsets(G,2)])\n",
    "    while P != set():\n",
    "        Pd = Sel(list(P))\n",
    "        P = P.difference(Pd)\n",
    "        Left_Pd = set([p[1]*p[2] for p in Pd])\n",
    "        Right_Pd = set([p[3]*p[4] for p in Pd])\n",
    "        Ld = Left_Pd.union(Right_Pd)\n",
    "        Fd_tilde = Reduction(Ld,G)\n",
    "        LtG = [f.lm() for f in G]\n",
    "        for h in Fd_tilde:\n",
    "            if h != 0 and all([h.lm()%f != 0 for f in LtG]):\n",
    "                P = P.union([Pair(h,g) for g in G])\n",
    "                G = G.union([h])\n",
    "    return base_reduite(list(G))"
   ]
  },
  {
   "cell_type": "markdown",
   "metadata": {},
   "source": [
    "## Example"
   ]
  },
  {
   "cell_type": "code",
   "execution_count": 4,
   "metadata": {},
   "outputs": [],
   "source": [
    "Q = PolynomialRing(QQ,4, names = 'abcd')\n",
    "a,b,c,d = Q('a'),Q('b'),Q('c'),Q('d')\n",
    "f1 = a*b*c*d-1\n",
    "f2 = a*b*c+a*b*d+a*c*d+b*c*d\n",
    "f3 = a*b+b*c+a*d+c*d\n",
    "f4 = a+b+c+d\n",
    "F = [f1,f2,f3,f4]\n"
   ]
  },
  {
   "cell_type": "code",
   "execution_count": 5,
   "metadata": {},
   "outputs": [],
   "source": [
    "Q = PolynomialRing(QQ,3, names = 'xyz')\n",
    "x,y,z = Q('x'),Q('y'),Q('z')\n",
    "f1 = x^2+x*y-1\n",
    "f2 = x^2-z^2\n",
    "f3 = x*y+1\n",
    "F = [f1,f2,f3]"
   ]
  },
  {
   "cell_type": "code",
   "execution_count": 6,
   "metadata": {},
   "outputs": [],
   "source": [
    "IF = Ideal(F)"
   ]
  },
  {
   "cell_type": "code",
   "execution_count": 10,
   "metadata": {},
   "outputs": [
    {
     "data": {
      "text/plain": [
       "[y^2 - 1/2, z^2 - 2, x + 2*y]"
      ]
     },
     "execution_count": 10,
     "metadata": {},
     "output_type": "execute_result"
    }
   ],
   "source": [
    "IF.groebner_basis()"
   ]
  },
  {
   "cell_type": "code",
   "execution_count": 9,
   "metadata": {},
   "outputs": [
    {
     "data": {
      "text/plain": [
       "[x + 2*y, z^2 - 2, y^2 - 1/2]"
      ]
     },
     "execution_count": 9,
     "metadata": {},
     "output_type": "execute_result"
    }
   ],
   "source": [
    "F4(F)"
   ]
  },
  {
   "cell_type": "code",
   "execution_count": null,
   "metadata": {},
   "outputs": [],
   "source": []
  },
  {
   "cell_type": "code",
   "execution_count": null,
   "metadata": {},
   "outputs": [],
   "source": []
  }
 ],
 "metadata": {
  "kernelspec": {
   "display_name": "SageMath 9.3",
   "language": "sage",
   "name": "sagemath"
  },
  "language_info": {
   "codemirror_mode": {
    "name": "ipython",
    "version": 3
   },
   "file_extension": ".py",
   "mimetype": "text/x-python",
   "name": "python",
   "nbconvert_exporter": "python",
   "pygments_lexer": "ipython3",
   "version": "3.9.2"
  }
 },
 "nbformat": 4,
 "nbformat_minor": 4
}
