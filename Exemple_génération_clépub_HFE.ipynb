{
 "cells": [
  {
   "cell_type": "markdown",
   "metadata": {},
   "source": [
    "# I. Définition du corps de base et de son extension"
   ]
  },
  {
   "cell_type": "code",
   "execution_count": 1,
   "metadata": {},
   "outputs": [],
   "source": [
    "p = 2\n",
    "m = 1\n",
    "q = p^m\n",
    "Fq.<alpha> = GF(q)\n",
    "n = 3\n",
    "K.<a> = GF(q^n)"
   ]
  },
  {
   "cell_type": "markdown",
   "metadata": {},
   "source": [
    "# II. Anneaux de polynôme"
   ]
  },
  {
   "cell_type": "markdown",
   "metadata": {},
   "source": [
    "## 1) $M = \\mathbb{F}q[x_0,\\cdots,x_n]$ et $N = \\dfrac{\\mathbb{F}q[x_0,\\cdots,x_n]}{<x_i^q = x_i>_{i\\in\\{0,\\cdots,n-1\\}}}$"
   ]
  },
  {
   "cell_type": "code",
   "execution_count": 65,
   "metadata": {},
   "outputs": [
    {
     "data": {
      "text/plain": [
       "Quotient of Multivariate Polynomial Ring in x0, x1, x2 over Finite Field in a of size 2^3 by the ideal (x0^2 + x0, x1^2 + x1, x2^2 + x2)"
      ]
     },
     "execution_count": 65,
     "metadata": {},
     "output_type": "execute_result"
    }
   ],
   "source": [
    "varnames = ['x'+str(k) for k in range(n)]\n",
    "M = PolynomialRing(K,n,varnames)\n",
    "x0,x1,x2 = M.variable_names()\n",
    "x0,x1,x2 = M(x0),M(x1),M(x2)\n",
    "N = M.quotient(M.ideal([x0^2-x0,x1^2-x1,x2^2-x2]))\n",
    "N"
   ]
  },
  {
   "cell_type": "markdown",
   "metadata": {},
   "source": [
    "## 2) $R = M[X]$ et $S = \\frac{M[X]}{P(X)}$ où P est le modulus de K "
   ]
  },
  {
   "cell_type": "code",
   "execution_count": null,
   "metadata": {},
   "outputs": [],
   "source": []
  },
  {
   "cell_type": "code",
   "execution_count": 45,
   "metadata": {},
   "outputs": [],
   "source": [
    "R.<X> = PolynomialRing(N)\n",
    "S = R.quotient(X^3+X^2+1)"
   ]
  },
  {
   "cell_type": "code",
   "execution_count": 30,
   "metadata": {},
   "outputs": [
    {
     "data": {
      "text/plain": [
       "Multivariate Polynomial Ring in x0, x1, x2 over Finite Field in a of size 2^3"
      ]
     },
     "execution_count": 30,
     "metadata": {},
     "output_type": "execute_result"
    }
   ],
   "source": [
    "N((x1*a)^2).lift().parent()\n"
   ]
  },
  {
   "cell_type": "markdown",
   "metadata": {},
   "source": [
    "# III. $f(X)\\in R$ qui vérifie les conditions de HFE "
   ]
  },
  {
   "cell_type": "code",
   "execution_count": 34,
   "metadata": {},
   "outputs": [],
   "source": [
    "f0 = X^5+X^3+X"
   ]
  },
  {
   "cell_type": "code",
   "execution_count": 60,
   "metadata": {},
   "outputs": [
    {
     "data": {
      "text/plain": [
       "(x0bar*x2bar + x1bar*x2bar + x1bar + x2bar)*X^2 + (x0bar*x1bar + x1bar*x2bar + x2bar)*X + x0bar*x1bar + x0bar*x2bar + x0bar + x2bar"
      ]
     },
     "execution_count": 60,
     "metadata": {},
     "output_type": "execute_result"
    }
   ],
   "source": [
    "f = f0(N(x0)+N(x1)*S(X)+N(x2)*S(X)^2)\n",
    "f.lift()"
   ]
  },
  {
   "cell_type": "code",
   "execution_count": 58,
   "metadata": {},
   "outputs": [
    {
     "data": {
      "text/plain": [
       "(x0bar*x2bar + x1bar*x2bar + x1bar + x2bar)*X^2 + (x0bar*x1bar + x1bar*x2bar + x2bar)*X + x0bar*x1bar + x0bar*x2bar + x0bar + x2bar"
      ]
     },
     "execution_count": 58,
     "metadata": {},
     "output_type": "execute_result"
    }
   ],
   "source": [
    "f = f0(N(x0)+N(x1)*X+N(x2)*X^2)\n",
    "f = S(f)\n",
    "f.lift()"
   ]
  },
  {
   "cell_type": "code",
   "execution_count": 61,
   "metadata": {},
   "outputs": [],
   "source": [
    "p0,p1,p2 = [N(k).lift() for k in list(f)]"
   ]
  },
  {
   "cell_type": "markdown",
   "metadata": {},
   "source": [
    "# IV. Résultats"
   ]
  },
  {
   "cell_type": "code",
   "execution_count": 62,
   "metadata": {},
   "outputs": [
    {
     "data": {
      "text/plain": [
       "x0*x1 + x0*x2 + x0 + x2"
      ]
     },
     "execution_count": 62,
     "metadata": {},
     "output_type": "execute_result"
    }
   ],
   "source": [
    "p0"
   ]
  },
  {
   "cell_type": "code",
   "execution_count": 63,
   "metadata": {},
   "outputs": [
    {
     "data": {
      "text/plain": [
       "x0*x1 + x1*x2 + x2"
      ]
     },
     "execution_count": 63,
     "metadata": {},
     "output_type": "execute_result"
    }
   ],
   "source": [
    "p1"
   ]
  },
  {
   "cell_type": "code",
   "execution_count": 64,
   "metadata": {},
   "outputs": [
    {
     "data": {
      "text/plain": [
       "x0*x2 + x1*x2 + x1 + x2"
      ]
     },
     "execution_count": 64,
     "metadata": {},
     "output_type": "execute_result"
    }
   ],
   "source": [
    "p2"
   ]
  },
  {
   "cell_type": "code",
   "execution_count": null,
   "metadata": {},
   "outputs": [],
   "source": []
  },
  {
   "cell_type": "code",
   "execution_count": null,
   "metadata": {},
   "outputs": [],
   "source": []
  }
 ],
 "metadata": {
  "kernelspec": {
   "display_name": "SageMath 9.3",
   "language": "sage",
   "name": "sagemath"
  },
  "language_info": {
   "codemirror_mode": {
    "name": "ipython",
    "version": 3
   },
   "file_extension": ".py",
   "mimetype": "text/x-python",
   "name": "python",
   "nbconvert_exporter": "python",
   "pygments_lexer": "ipython3",
   "version": "3.9.2"
  }
 },
 "nbformat": 4,
 "nbformat_minor": 4
}
